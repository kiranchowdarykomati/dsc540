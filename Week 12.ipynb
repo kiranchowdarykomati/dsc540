{
 "cells": [
  {
   "cell_type": "code",
   "execution_count": 21,
   "id": "36a5a9c1",
   "metadata": {},
   "outputs": [],
   "source": [
    "import sqlite3"
   ]
  },
  {
   "cell_type": "code",
   "execution_count": 22,
   "id": "724efefc",
   "metadata": {},
   "outputs": [],
   "source": [
    "# Connect to the Database\n",
    "conn = sqlite3.connect(\"petsdb\")"
   ]
  },
  {
   "cell_type": "code",
   "execution_count": 23,
   "id": "557c3f20",
   "metadata": {},
   "outputs": [],
   "source": [
    "# Function to check if the connection is successful\n",
    "def is_opened(conn):\n",
    "    try:\n",
    "        conn.execute(\"SELECT * FROM persons LIMIT 1\") \n",
    "        return True\n",
    "    except sqlite3.ProgrammingError as e:\n",
    "        print(\"Connection closed {}\".format(e))\n",
    "        return False"
   ]
  },
  {
   "cell_type": "code",
   "execution_count": 24,
   "id": "a0d3c287",
   "metadata": {},
   "outputs": [
    {
     "name": "stdout",
     "output_type": "stream",
     "text": [
      "True\n"
     ]
    }
   ],
   "source": [
    "print(is_opened(conn))"
   ]
  },
  {
   "cell_type": "code",
   "execution_count": 25,
   "id": "d2bcdfdb",
   "metadata": {},
   "outputs": [
    {
     "name": "stdout",
     "output_type": "stream",
     "text": [
      "Connection closed Cannot operate on a closed database.\n",
      "False\n"
     ]
    }
   ],
   "source": [
    "# Close the connection\n",
    "conn.close()\n",
    "\n",
    "#Check whether the connection is open or closed:\n",
    "print(is_opened(conn))"
   ]
  },
  {
   "cell_type": "code",
   "execution_count": 26,
   "id": "d09fcd33",
   "metadata": {},
   "outputs": [],
   "source": [
    "# Connect back\n",
    "conn = sqlite3.connect(\"petsdb\")\n",
    "c = conn.cursor()"
   ]
  },
  {
   "cell_type": "code",
   "execution_count": 27,
   "id": "82af362a",
   "metadata": {},
   "outputs": [
    {
     "name": "stdout",
     "output_type": "stream",
     "text": [
      "We have 2 people aged 5\n",
      "We have 1 people aged 6\n",
      "We have 1 people aged 7\n",
      "We have 3 people aged 8\n",
      "We have 1 people aged 9\n",
      "We have 2 people aged 11\n",
      "We have 3 people aged 12\n",
      "We have 1 people aged 13\n",
      "We have 4 people aged 14\n",
      "We have 2 people aged 16\n",
      "We have 2 people aged 17\n",
      "We have 3 people aged 18\n",
      "We have 1 people aged 19\n",
      "We have 3 people aged 22\n",
      "We have 2 people aged 23\n",
      "We have 3 people aged 24\n",
      "We have 2 people aged 25\n",
      "We have 1 people aged 27\n",
      "We have 1 people aged 30\n",
      "We have 3 people aged 31\n",
      "We have 1 people aged 32\n",
      "We have 1 people aged 33\n",
      "We have 2 people aged 34\n",
      "We have 3 people aged 35\n",
      "We have 3 people aged 36\n",
      "We have 1 people aged 37\n",
      "We have 2 people aged 39\n",
      "We have 1 people aged 40\n",
      "We have 1 people aged 42\n",
      "We have 2 people aged 44\n",
      "We have 2 people aged 48\n",
      "We have 1 people aged 49\n",
      "We have 1 people aged 50\n",
      "We have 2 people aged 51\n",
      "We have 2 people aged 52\n",
      "We have 2 people aged 53\n",
      "We have 2 people aged 54\n",
      "We have 1 people aged 58\n",
      "We have 1 people aged 59\n",
      "We have 1 people aged 60\n",
      "We have 1 people aged 61\n",
      "We have 2 people aged 62\n",
      "We have 1 people aged 63\n",
      "We have 2 people aged 65\n",
      "We have 2 people aged 66\n",
      "We have 1 people aged 67\n",
      "We have 3 people aged 68\n",
      "We have 1 people aged 69\n",
      "We have 1 people aged 70\n",
      "We have 4 people aged 71\n",
      "We have 1 people aged 72\n",
      "We have 5 people aged 73\n",
      "We have 3 people aged 74\n"
     ]
    }
   ],
   "source": [
    "# Find out the different age groups are in the persons database.\n",
    "for ppl, age in c.execute(\"SELECT count(*), age FROM persons GROUP BY age\"):\n",
    "    print(\"We have {} people aged {}\".format(ppl, age))"
   ]
  },
  {
   "cell_type": "code",
   "execution_count": 28,
   "id": "dcd2b117",
   "metadata": {},
   "outputs": [
    {
     "name": "stdout",
     "output_type": "stream",
     "text": [
      "Highest number of people is 5 and came from 73 age group\n"
     ]
    }
   ],
   "source": [
    "# find out which age group has the highest number of people\n",
    "for ppl, age in c.execute(\"SELECT count(*), age FROM persons GROUP BY age ORDER BY count(*) DESC\"):\n",
    "    print(\"Highest number of people is {} and came from {} age group\".format(ppl,\n",
    "age)) \n",
    "    break"
   ]
  },
  {
   "cell_type": "code",
   "execution_count": 29,
   "id": "d93373bc",
   "metadata": {},
   "outputs": [
    {
     "name": "stdout",
     "output_type": "stream",
     "text": [
      "(60,)\n"
     ]
    }
   ],
   "source": [
    "# find out how many people do not have a full name\n",
    "res = c.execute(\"SELECT count(*) FROM persons WHERE last_name IS null\") \n",
    "for row in res:\n",
    "    print(row)\n"
   ]
  },
  {
   "cell_type": "code",
   "execution_count": 30,
   "id": "1831b371",
   "metadata": {},
   "outputs": [
    {
     "name": "stdout",
     "output_type": "stream",
     "text": [
      "43 People has more than one pets\n"
     ]
    }
   ],
   "source": [
    "# find out how many people have more than one pet\n",
    "res = c.execute(\"SELECT count(*) FROM (SELECT count(owner_id) FROM pets GROUP BY owner_id HAVING count(owner_id) >1)\") \n",
    "for row in res:\n",
    "    print(\"{} People has more than one pets\".format(row[0]))"
   ]
  },
  {
   "cell_type": "code",
   "execution_count": 31,
   "id": "f506ab6a",
   "metadata": {},
   "outputs": [
    {
     "name": "stdout",
     "output_type": "stream",
     "text": [
      "(36,)\n"
     ]
    }
   ],
   "source": [
    "# find out how many pets have received treatment\n",
    "res = c.execute(\"SELECT count(*) FROM pets WHERE treatment_done=1\") \n",
    "for row in res:\n",
    "    print(row)"
   ]
  },
  {
   "cell_type": "code",
   "execution_count": 32,
   "id": "55aa0d6a",
   "metadata": {},
   "outputs": [
    {
     "name": "stdout",
     "output_type": "stream",
     "text": [
      "(16,)\n"
     ]
    }
   ],
   "source": [
    "# find out how many pets have received treatment and the type of pet is known\n",
    "res = c.execute(\"SELECT count(*) FROM pets WHERE treatment_done=1 AND pet_type IS NOT null\") \n",
    "for row in res:\n",
    "    print(row)"
   ]
  },
  {
   "cell_type": "code",
   "execution_count": 33,
   "id": "1fc0eb71",
   "metadata": {},
   "outputs": [
    {
     "name": "stdout",
     "output_type": "stream",
     "text": [
      "(49,)\n"
     ]
    }
   ],
   "source": [
    "# find out how many pets are from the city called \"east port\"\n",
    "res = c.execute(\"SELECT count(*) FROM pets JOIN persons ON pets.owner_id = persons.id WHERE persons.city='east port'\") \n",
    "for row in res:\n",
    "    print(row)"
   ]
  },
  {
   "cell_type": "code",
   "execution_count": 34,
   "id": "a173329e",
   "metadata": {},
   "outputs": [
    {
     "name": "stdout",
     "output_type": "stream",
     "text": [
      "(11,)\n"
     ]
    }
   ],
   "source": [
    "# find out how many pets are from the city called \"east port\" and who received treatment\n",
    "res = c.execute(\"SELECT count(*) FROM pets JOIN persons ON pets.owner_id = persons.id WHERE persons.city='east port' AND pets.treatment_done=1\") \n",
    "for row in res:\n",
    "    print(row)"
   ]
  }
 ],
 "metadata": {
  "kernelspec": {
   "display_name": "Python 3",
   "language": "python",
   "name": "python3"
  },
  "language_info": {
   "codemirror_mode": {
    "name": "ipython",
    "version": 3
   },
   "file_extension": ".py",
   "mimetype": "text/x-python",
   "name": "python",
   "nbconvert_exporter": "python",
   "pygments_lexer": "ipython3",
   "version": "3.8.8"
  }
 },
 "nbformat": 4,
 "nbformat_minor": 5
}
