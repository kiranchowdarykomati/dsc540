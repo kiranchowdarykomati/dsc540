{
 "cells": [
  {
   "cell_type": "code",
   "execution_count": 60,
   "id": "4a6c8fa7",
   "metadata": {},
   "outputs": [],
   "source": [
    "# import pandas to read excel file\n",
    "import pandas as pd\n",
    "import numpy as np\n",
    "import matplotlib.pyplot as plt\n",
    "%matplotlib inline"
   ]
  },
  {
   "cell_type": "code",
   "execution_count": 61,
   "id": "71b6e892",
   "metadata": {},
   "outputs": [],
   "source": [
    "# Reading the data into a dataframe and exclude first 4 rows that has information on data and columns\n",
    "# and reading 12 relavant columns\n",
    "ND=pd.read_excel(\"Nutrition-Facts.xlsx\",sheet_name='SR Legacy and FNDDS',header=4,usecols = \"A:K,DM\")"
   ]
  },
  {
   "cell_type": "code",
   "execution_count": 62,
   "id": "290b403a",
   "metadata": {},
   "outputs": [],
   "source": [
    "# New Column names\n",
    "new_cols = ['ID', 'ItemName', 'Group', 'CaloriesPer100Gms', 'FatinGms', 'ProteininGms','CarbsinGms','SugarsinGms','FiberinGms','CholesterolinGms','SaturatedFatsinGms','200CalorieWeight']"
   ]
  },
  {
   "cell_type": "code",
   "execution_count": 63,
   "id": "58a0a01d",
   "metadata": {},
   "outputs": [
    {
     "data": {
      "text/html": [
       "<div>\n",
       "<style scoped>\n",
       "    .dataframe tbody tr th:only-of-type {\n",
       "        vertical-align: middle;\n",
       "    }\n",
       "\n",
       "    .dataframe tbody tr th {\n",
       "        vertical-align: top;\n",
       "    }\n",
       "\n",
       "    .dataframe thead th {\n",
       "        text-align: right;\n",
       "    }\n",
       "</style>\n",
       "<table border=\"1\" class=\"dataframe\">\n",
       "  <thead>\n",
       "    <tr style=\"text-align: right;\">\n",
       "      <th></th>\n",
       "      <th>ID</th>\n",
       "      <th>ItemName</th>\n",
       "      <th>Group</th>\n",
       "      <th>CaloriesPer100Gms</th>\n",
       "      <th>FatinGms</th>\n",
       "      <th>ProteininGms</th>\n",
       "      <th>CarbsinGms</th>\n",
       "      <th>SugarsinGms</th>\n",
       "      <th>FiberinGms</th>\n",
       "      <th>CholesterolinGms</th>\n",
       "      <th>SaturatedFatsinGms</th>\n",
       "      <th>200CalorieWeight</th>\n",
       "    </tr>\n",
       "  </thead>\n",
       "  <tbody>\n",
       "    <tr>\n",
       "      <th>0</th>\n",
       "      <td>167513</td>\n",
       "      <td>Pillsbury Cinnamon Rolls With Icing Refrigerat...</td>\n",
       "      <td>Baked Foods</td>\n",
       "      <td>330.0</td>\n",
       "      <td>11.27</td>\n",
       "      <td>4.34</td>\n",
       "      <td>53.42</td>\n",
       "      <td>21.34</td>\n",
       "      <td>1.4</td>\n",
       "      <td>0.0</td>\n",
       "      <td>3.250</td>\n",
       "      <td>60.606</td>\n",
       "    </tr>\n",
       "    <tr>\n",
       "      <th>1</th>\n",
       "      <td>167514</td>\n",
       "      <td>Kraft Foods Shake N Bake Original Recipe Coati...</td>\n",
       "      <td>Baked Foods</td>\n",
       "      <td>377.0</td>\n",
       "      <td>3.70</td>\n",
       "      <td>6.10</td>\n",
       "      <td>79.80</td>\n",
       "      <td>NaN</td>\n",
       "      <td>NaN</td>\n",
       "      <td>NaN</td>\n",
       "      <td>NaN</td>\n",
       "      <td>53.050</td>\n",
       "    </tr>\n",
       "    <tr>\n",
       "      <th>2</th>\n",
       "      <td>167515</td>\n",
       "      <td>George Weston Bakeries Thomas English Muffins</td>\n",
       "      <td>Baked Foods</td>\n",
       "      <td>232.0</td>\n",
       "      <td>1.80</td>\n",
       "      <td>8.00</td>\n",
       "      <td>46.00</td>\n",
       "      <td>NaN</td>\n",
       "      <td>NaN</td>\n",
       "      <td>NaN</td>\n",
       "      <td>0.308</td>\n",
       "      <td>86.207</td>\n",
       "    </tr>\n",
       "    <tr>\n",
       "      <th>3</th>\n",
       "      <td>167516</td>\n",
       "      <td>Waffles Buttermilk Frozen Ready-To-Heat</td>\n",
       "      <td>Baked Foods</td>\n",
       "      <td>273.0</td>\n",
       "      <td>9.22</td>\n",
       "      <td>6.58</td>\n",
       "      <td>41.05</td>\n",
       "      <td>4.30</td>\n",
       "      <td>2.2</td>\n",
       "      <td>15.0</td>\n",
       "      <td>1.898</td>\n",
       "      <td>73.260</td>\n",
       "    </tr>\n",
       "    <tr>\n",
       "      <th>4</th>\n",
       "      <td>167517</td>\n",
       "      <td>Waffle Buttermilk Frozen Ready-To-Heat Toasted</td>\n",
       "      <td>Baked Foods</td>\n",
       "      <td>309.0</td>\n",
       "      <td>9.49</td>\n",
       "      <td>7.42</td>\n",
       "      <td>48.39</td>\n",
       "      <td>4.41</td>\n",
       "      <td>2.6</td>\n",
       "      <td>13.0</td>\n",
       "      <td>2.275</td>\n",
       "      <td>64.725</td>\n",
       "    </tr>\n",
       "  </tbody>\n",
       "</table>\n",
       "</div>"
      ],
      "text/plain": [
       "       ID                                           ItemName        Group  \\\n",
       "0  167513  Pillsbury Cinnamon Rolls With Icing Refrigerat...  Baked Foods   \n",
       "1  167514  Kraft Foods Shake N Bake Original Recipe Coati...  Baked Foods   \n",
       "2  167515      George Weston Bakeries Thomas English Muffins  Baked Foods   \n",
       "3  167516            Waffles Buttermilk Frozen Ready-To-Heat  Baked Foods   \n",
       "4  167517     Waffle Buttermilk Frozen Ready-To-Heat Toasted  Baked Foods   \n",
       "\n",
       "   CaloriesPer100Gms  FatinGms  ProteininGms  CarbsinGms  SugarsinGms  \\\n",
       "0              330.0     11.27          4.34       53.42        21.34   \n",
       "1              377.0      3.70          6.10       79.80          NaN   \n",
       "2              232.0      1.80          8.00       46.00          NaN   \n",
       "3              273.0      9.22          6.58       41.05         4.30   \n",
       "4              309.0      9.49          7.42       48.39         4.41   \n",
       "\n",
       "   FiberinGms  CholesterolinGms  SaturatedFatsinGms  200CalorieWeight  \n",
       "0         1.4               0.0               3.250            60.606  \n",
       "1         NaN               NaN                 NaN            53.050  \n",
       "2         NaN               NaN               0.308            86.207  \n",
       "3         2.2              15.0               1.898            73.260  \n",
       "4         2.6              13.0               2.275            64.725  "
      ]
     },
     "execution_count": 63,
     "metadata": {},
     "output_type": "execute_result"
    }
   ],
   "source": [
    "# Renaming Column Names\n",
    "ND.columns = new_cols\n",
    "ND.head(5)"
   ]
  },
  {
   "cell_type": "code",
   "execution_count": 64,
   "id": "8285716c",
   "metadata": {},
   "outputs": [
    {
     "name": "stdout",
     "output_type": "stream",
     "text": [
      "ID is duplicated - False\n",
      "Item Name is duplicated - False\n"
     ]
    }
   ],
   "source": [
    "# Identify duplicate IDs, Item Names\n",
    "print(\"ID is duplicated - {}\".format(any(ND.ID.duplicated())))\n",
    "print(\"Item Name is duplicated - {}\".format(any(ND.ItemName.duplicated())))"
   ]
  },
  {
   "cell_type": "code",
   "execution_count": 65,
   "id": "0305cb79",
   "metadata": {},
   "outputs": [
    {
     "name": "stdout",
     "output_type": "stream",
     "text": [
      "The column ID contains NaN - False \n",
      "The column ItemName contains NaN - False \n",
      "The column Group contains NaN - True \n",
      "The column Calories contains NaN - False \n",
      "The column FatinGms contains NaN - False \n",
      "The column ProteininGms contains NaN - False \n",
      "The column CarbsinGms contains NaN - False \n",
      "The column SugarsinGms contains NaN - True \n"
     ]
    }
   ],
   "source": [
    "# Check for NaN in the columns\n",
    "print(\"The column ID contains NaN - %r \" % ND.ID.isnull().values.any())\n",
    "print(\"The column ItemName contains NaN - %s \" % ND.ItemName.isnull().values.any())\n",
    "print(\"The column Group contains NaN - %s \" % ND.Group.isnull().values.any())\n",
    "print(\"The column Calories contains NaN - %r \" % ND.CaloriesPer100Gms.isnull().values.any())\n",
    "print(\"The column FatinGms contains NaN - %s \" % ND.FatinGms.isnull().values.any())\n",
    "print(\"The column ProteininGms contains NaN - %s \" % ND.ProteininGms.isnull().values.any())\n",
    "print(\"The column CarbsinGms contains NaN - %s \" % ND.CarbsinGms.isnull().values.any())\n",
    "print(\"The column SugarsinGms contains NaN - %s \" % ND.SugarsinGms.isnull().values.any())"
   ]
  },
  {
   "cell_type": "code",
   "execution_count": 66,
   "id": "1b6dc7a9",
   "metadata": {},
   "outputs": [
    {
     "name": "stdout",
     "output_type": "stream",
     "text": [
      "The size of previous data was - 14163 rows and the size of the new one is 12377 rows\n"
     ]
    }
   ],
   "source": [
    "# Identify outliers. In this case records that have \"SugarsinGms\" as none \n",
    "size_prev = ND.shape\n",
    "ND2 = ND[np.isfinite(ND['SugarsinGms'])] \n",
    "size_after = ND2.shape"
   ]
  },
  {
   "cell_type": "code",
   "execution_count": 73,
   "id": "36a854d1",
   "metadata": {},
   "outputs": [
    {
     "name": "stdout",
     "output_type": "stream",
     "text": [
      "The size of previous data was - 14163 rows and the size of the new one is 12377 rows\n"
     ]
    }
   ],
   "source": [
    "# Reporting the difference in size\n",
    "print(\"The size of previous data was - {prev[0]} rows and the size of the new one is {after[0]} rows\".\n",
    "      format(prev=size_prev, after=size_after))"
   ]
  },
  {
   "cell_type": "code",
   "execution_count": 74,
   "id": "9b50384a",
   "metadata": {},
   "outputs": [
    {
     "data": {
      "text/plain": [
       "{'whiskers': [<matplotlib.lines.Line2D at 0x1d6df978b50>,\n",
       "  <matplotlib.lines.Line2D at 0x1d6df978eb0>],\n",
       " 'caps': [<matplotlib.lines.Line2D at 0x1d6df980250>,\n",
       "  <matplotlib.lines.Line2D at 0x1d6df9805b0>],\n",
       " 'boxes': [<matplotlib.lines.Line2D at 0x1d6df978850>],\n",
       " 'medians': [<matplotlib.lines.Line2D at 0x1d6df980910>],\n",
       " 'fliers': [<matplotlib.lines.Line2D at 0x1d6df980c70>],\n",
       " 'means': []}"
      ]
     },
     "execution_count": 74,
     "metadata": {},
     "output_type": "execute_result"
    },
    {
     "data": {
      "image/png": "[encoded data removed]",
      "text/plain": [
       "<Figure size 432x288 with 1 Axes>"
      ]
     },
     "metadata": {
      "needs_background": "light"
     },
     "output_type": "display_data"
    }
   ],
   "source": [
    "# Plotting Box plots to check outliers\n",
    "plt.boxplot(ND2.SugarsinGms, notch=True)"
   ]
  },
  {
   "cell_type": "code",
   "execution_count": 75,
   "id": "276d5278",
   "metadata": {},
   "outputs": [
    {
     "name": "stdout",
     "output_type": "stream",
     "text": [
      "After getting rid of outliers the new size of the data is 12361\n"
     ]
    }
   ],
   "source": [
    "# Preserving only the values that are less than 90 Gms to remove outliers\n",
    "ND3 = ND2[(ND2['SugarsinGms'] <= 90)]\n",
    "print(\"After getting rid of outliers the new size of the data is {}\".format(*ND3.shape))"
   ]
  },
  {
   "cell_type": "code",
   "execution_count": 83,
   "id": "376f8e17",
   "metadata": {},
   "outputs": [
    {
     "name": "stdout",
     "output_type": "stream",
     "text": [
      "Baked Foods Baked Foods 0\n",
      "Baked Foods Baked Foods 0\n",
      "Baked Foods Baked Foods 0\n",
      "Baked Foods Baked Foods 0\n",
      "Baked Foods Baked Foods 0\n",
      "Baked Foods Baked Foods 0\n",
      "Baked Foods Baked Foods 0\n",
      "Baked Foods Baked Foods 0\n",
      "Baked Foods Baked Foods 0\n",
      "Baked Foods Baked Foods 0\n",
      "Baked Foods Baked Foods 0\n",
      "Baked Foods Baked Foods 0\n",
      "Baked Foods Baked Foods 0\n",
      "Baked Foods Baked Foods 0\n",
      "Baked Foods Baked Foods 0\n",
      "Baked Foods Baked Foods 0\n",
      "Baked Foods Baked Foods 0\n",
      "Baked Foods Baked Foods 0\n",
      "Baked Foods Baked Foods 0\n",
      "Snacks Baked Foods 10\n",
      "Snacks Baked Foods 10\n",
      "Sweets Baked Foods 9\n",
      "Sweets Baked Foods 9\n",
      "Snacks Baked Foods 10\n",
      "Sweets Baked Foods 9\n",
      "Snacks Baked Foods 10\n",
      "Snacks Baked Foods 10\n",
      "Snacks Baked Foods 10\n",
      "Snacks Baked Foods 10\n",
      "Snacks Baked Foods 10\n"
     ]
    }
   ],
   "source": [
    "from Levenshtein import distance\n",
    "# Conduct fuzzy matching on first 30 items\n",
    "name_of_group='Baked Foods'\n",
    "ND4=ND3.head(30)\n",
    "ND4['Group']\n",
    "for k in ND4['Group']:\n",
    "    print(\"{} {} {}\".format(k,name_of_group,distance(name_of_group,k)))"
   ]
  }
 ],
 "metadata": {
  "kernelspec": {
   "display_name": "Python 3",
   "language": "python",
   "name": "python3"
  },
  "language_info": {
   "codemirror_mode": {
    "name": "ipython",
    "version": 3
   },
   "file_extension": ".py",
   "mimetype": "text/x-python",
   "name": "python",
   "nbconvert_exporter": "python",
   "pygments_lexer": "ipython3",
   "version": "3.8.8"
  }
 },
 "nbformat": 4,
 "nbformat_minor": 5
}
