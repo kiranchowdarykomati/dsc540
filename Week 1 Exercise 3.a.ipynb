{
 "cells": [
  {
   "cell_type": "code",
   "execution_count": 5,
   "id": "709a108c",
   "metadata": {},
   "outputs": [],
   "source": [
    "import random\n",
    "LIMIT = 100"
   ]
  },
  {
   "cell_type": "code",
   "execution_count": 7,
   "id": "f8865a70",
   "metadata": {},
   "outputs": [
    {
     "data": {
      "text/plain": [
       "[73,\n",
       " 91,\n",
       " 36,\n",
       " 57,\n",
       " 81,\n",
       " 42,\n",
       " 11,\n",
       " 81,\n",
       " 53,\n",
       " 68,\n",
       " 26,\n",
       " 38,\n",
       " 72,\n",
       " 22,\n",
       " 55,\n",
       " 24,\n",
       " 97,\n",
       " 24,\n",
       " 11,\n",
       " 66,\n",
       " 29,\n",
       " 43,\n",
       " 34,\n",
       " 70,\n",
       " 77,\n",
       " 5,\n",
       " 18,\n",
       " 43,\n",
       " 62,\n",
       " 1,\n",
       " 49,\n",
       " 31,\n",
       " 25,\n",
       " 14,\n",
       " 35,\n",
       " 67,\n",
       " 9,\n",
       " 71,\n",
       " 46,\n",
       " 67,\n",
       " 48,\n",
       " 82,\n",
       " 5,\n",
       " 77,\n",
       " 78,\n",
       " 46,\n",
       " 20,\n",
       " 86,\n",
       " 38,\n",
       " 73,\n",
       " 33,\n",
       " 34,\n",
       " 86,\n",
       " 33,\n",
       " 18,\n",
       " 49,\n",
       " 98,\n",
       " 9,\n",
       " 32,\n",
       " 63,\n",
       " 39,\n",
       " 18,\n",
       " 62,\n",
       " 45,\n",
       " 83,\n",
       " 78,\n",
       " 52,\n",
       " 31,\n",
       " 26,\n",
       " 100,\n",
       " 16,\n",
       " 6,\n",
       " 53,\n",
       " 86,\n",
       " 68,\n",
       " 59,\n",
       " 36,\n",
       " 18,\n",
       " 45,\n",
       " 2,\n",
       " 30,\n",
       " 59,\n",
       " 26,\n",
       " 2,\n",
       " 43,\n",
       " 24,\n",
       " 97,\n",
       " 84,\n",
       " 16,\n",
       " 97,\n",
       " 66,\n",
       " 14,\n",
       " 7,\n",
       " 56,\n",
       " 37,\n",
       " 71,\n",
       " 17,\n",
       " 9,\n",
       " 50,\n",
       " 6]"
      ]
     },
     "execution_count": 7,
     "metadata": {},
     "output_type": "execute_result"
    }
   ],
   "source": [
    "random_number_list = [random.randint(0, LIMIT) for x in range(0, LIMIT)]\n",
    "random_number_list"
   ]
  },
  {
   "cell_type": "code",
   "execution_count": 9,
   "id": "21dbc4ba",
   "metadata": {},
   "outputs": [
    {
     "data": {
      "text/plain": [
       "[36,\n",
       " 57,\n",
       " 81,\n",
       " 42,\n",
       " 81,\n",
       " 72,\n",
       " 24,\n",
       " 24,\n",
       " 66,\n",
       " 18,\n",
       " 9,\n",
       " 48,\n",
       " 78,\n",
       " 33,\n",
       " 33,\n",
       " 18,\n",
       " 9,\n",
       " 63,\n",
       " 39,\n",
       " 18,\n",
       " 45,\n",
       " 78,\n",
       " 6,\n",
       " 36,\n",
       " 18,\n",
       " 45,\n",
       " 30,\n",
       " 24,\n",
       " 84,\n",
       " 66,\n",
       " 9,\n",
       " 6]"
      ]
     },
     "execution_count": 9,
     "metadata": {},
     "output_type": "execute_result"
    }
   ],
   "source": [
    "list_with_divisible_by_3 = [a for a in random_number_list if a % 3 == 0]\n",
    "list_with_divisible_by_3"
   ]
  },
  {
   "cell_type": "code",
   "execution_count": 10,
   "id": "a9669e75",
   "metadata": {},
   "outputs": [
    {
     "data": {
      "text/plain": [
       "68"
      ]
     },
     "execution_count": 10,
     "metadata": {},
     "output_type": "execute_result"
    }
   ],
   "source": [
    "length_of_random_list = len(random_number_list)\n",
    "length_of_3_divisible_list = len(list_with_divisible_by_3)\n",
    "difference = length_of_random_list - length_of_3_divisible_list\n",
    "difference"
   ]
  },
  {
   "cell_type": "code",
   "execution_count": 13,
   "id": "89a74907",
   "metadata": {},
   "outputs": [
    {
     "data": {
      "text/plain": [
       "[73, 61, 66, 70, 58, 53, 58, 70, 67, 62]"
      ]
     },
     "execution_count": 13,
     "metadata": {},
     "output_type": "execute_result"
    }
   ],
   "source": [
    "NUMBER_OF_EXPERIEMENTS = 10\n",
    "difference_list = []\n",
    "for i in range(0, NUMBER_OF_EXPERIEMENTS):\n",
    "    random_number_list = [random.randint(0, LIMIT) for x in range(0, LIMIT)]\n",
    "    list_with_divisible_by_3 = [a for a in random_number_list if a % 3 == 0]\n",
    "    length_of_random_list = len(random_number_list)\n",
    "    length_of_3_divisible_list = len(list_with_divisible_by_3)\n",
    "    difference = length_of_random_list - length_of_3_divisible_list\n",
    "    difference_list.append(difference)\n",
    "difference_list"
   ]
  },
  {
   "cell_type": "code",
   "execution_count": 14,
   "id": "6a0efea0",
   "metadata": {},
   "outputs": [
    {
     "data": {
      "text/plain": [
       "63.8"
      ]
     },
     "execution_count": 14,
     "metadata": {},
     "output_type": "execute_result"
    }
   ],
   "source": [
    "avg_diff = sum(difference_list) / float(len(difference_list))\n",
    "avg_diff"
   ]
  }
 ],
 "metadata": {
  "kernelspec": {
   "display_name": "Python 3",
   "language": "python",
   "name": "python3"
  },
  "language_info": {
   "codemirror_mode": {
    "name": "ipython",
    "version": 3
   },
   "file_extension": ".py",
   "mimetype": "text/x-python",
   "name": "python",
   "nbconvert_exporter": "python",
   "pygments_lexer": "ipython3",
   "version": "3.8.8"
  }
 },
 "nbformat": 4,
 "nbformat_minor": 5
}
