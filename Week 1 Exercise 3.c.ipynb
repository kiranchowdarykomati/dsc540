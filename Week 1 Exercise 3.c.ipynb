{
 "cells": [
  {
   "cell_type": "code",
   "execution_count": 3,
   "id": "e9b5d041",
   "metadata": {},
   "outputs": [],
   "source": [
    "from itertools import permutations, dropwhile\n",
    "permutations?"
   ]
  },
  {
   "cell_type": "code",
   "execution_count": 4,
   "id": "6adfd6bd",
   "metadata": {},
   "outputs": [],
   "source": [
    "dropwhile?"
   ]
  },
  {
   "cell_type": "code",
   "execution_count": 5,
   "id": "4f4b6677",
   "metadata": {},
   "outputs": [
    {
     "data": {
      "text/plain": [
       "<itertools.permutations at 0x202a0f28e50>"
      ]
     },
     "execution_count": 5,
     "metadata": {},
     "output_type": "execute_result"
    }
   ],
   "source": [
    "permutations(range(3))"
   ]
  },
  {
   "cell_type": "code",
   "execution_count": 10,
   "id": "dadc14e7",
   "metadata": {},
   "outputs": [
    {
     "name": "stdout",
     "output_type": "stream",
     "text": [
      "(0, 1, 2)\n",
      "(0, 2, 1)\n",
      "(1, 0, 2)\n",
      "(1, 2, 0)\n",
      "(2, 0, 1)\n",
      "(2, 1, 0)\n"
     ]
    }
   ],
   "source": [
    "for number_tuple in permutations(range(3)):\n",
    "    print(number_tuple)\n",
    "    assert isinstance(number_tuple, tuple)"
   ]
  },
  {
   "cell_type": "code",
   "execution_count": 11,
   "id": "eacd92d0",
   "metadata": {},
   "outputs": [
    {
     "name": "stdout",
     "output_type": "stream",
     "text": [
      "[1, 2]\n",
      "[2, 1]\n",
      "[1, 0, 2]\n",
      "[1, 2, 0]\n",
      "[2, 0, 1]\n",
      "[2, 1, 0]\n"
     ]
    }
   ],
   "source": [
    "for number_tuple in permutations(range(3)):\n",
    "    print(list(dropwhile(lambda x: x <= 0,number_tuple)))"
   ]
  },
  {
   "cell_type": "code",
   "execution_count": 18,
   "id": "65b1490d",
   "metadata": {},
   "outputs": [],
   "source": [
    "import math \n",
    "def convert_to_number(number_stack):\n",
    "    final_number = 0\n",
    "    for i in range(0, len(number_stack)):\n",
    "        final_number += (number_stack.pop() * (math.pow(10, i))) \n",
    "    return final_number "
   ]
  },
  {
   "cell_type": "code",
   "execution_count": 20,
   "id": "9c9e5fd9",
   "metadata": {},
   "outputs": [
    {
     "name": "stdout",
     "output_type": "stream",
     "text": [
      "12.0\n",
      "21.0\n",
      "102.0\n",
      "120.0\n",
      "201.0\n",
      "210.0\n"
     ]
    }
   ],
   "source": [
    "for number_tuple in permutations(range(3)):\n",
    "    number_stack = list(dropwhile(lambda x: x <=0, number_tuple))\n",
    "    print(convert_to_number(number_stack))"
   ]
  }
 ],
 "metadata": {
  "kernelspec": {
   "display_name": "Python 3",
   "language": "python",
   "name": "python3"
  },
  "language_info": {
   "codemirror_mode": {
    "name": "ipython",
    "version": 3
   },
   "file_extension": ".py",
   "mimetype": "text/x-python",
   "name": "python",
   "nbconvert_exporter": "python",
   "pygments_lexer": "ipython3",
   "version": "3.8.8"
  }
 },
 "nbformat": 4,
 "nbformat_minor": 5
}
