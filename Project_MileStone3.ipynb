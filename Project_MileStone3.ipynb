{
 "cells": [
  {
   "cell_type": "code",
   "execution_count": 42,
   "id": "618fa5bf",
   "metadata": {},
   "outputs": [],
   "source": [
    "import pandas as pd\n",
    "import numpy as np\n",
    "import matplotlib.pyplot as plt\n",
    "%matplotlib inline"
   ]
  },
  {
   "cell_type": "code",
   "execution_count": 43,
   "id": "9ff02bdc",
   "metadata": {},
   "outputs": [
    {
     "data": {
      "text/plain": [
       "16"
      ]
     },
     "execution_count": 43,
     "metadata": {},
     "output_type": "execute_result"
    }
   ],
   "source": [
    "tables = pd.read_html('Table of food nutrients - Wikipedia.html')\n",
    "len(tables)"
   ]
  },
  {
   "cell_type": "code",
   "execution_count": 44,
   "id": "078215c2",
   "metadata": {},
   "outputs": [],
   "source": [
    "dairy=tables[0]"
   ]
  },
  {
   "cell_type": "code",
   "execution_count": 45,
   "id": "f5f40754",
   "metadata": {},
   "outputs": [
    {
     "data": {
      "text/html": [
       "<div>\n",
       "<style scoped>\n",
       "    .dataframe tbody tr th:only-of-type {\n",
       "        vertical-align: middle;\n",
       "    }\n",
       "\n",
       "    .dataframe tbody tr th {\n",
       "        vertical-align: top;\n",
       "    }\n",
       "\n",
       "    .dataframe thead tr th {\n",
       "        text-align: left;\n",
       "    }\n",
       "</style>\n",
       "<table border=\"1\" class=\"dataframe\">\n",
       "  <thead>\n",
       "    <tr>\n",
       "      <th></th>\n",
       "      <th colspan=\"9\" halign=\"left\">hideDairy products</th>\n",
       "    </tr>\n",
       "    <tr>\n",
       "      <th></th>\n",
       "      <th>Food</th>\n",
       "      <th>Measure</th>\n",
       "      <th>Grams</th>\n",
       "      <th>Calories</th>\n",
       "      <th>Protein</th>\n",
       "      <th>Carb.</th>\n",
       "      <th>Fiber</th>\n",
       "      <th>Fat</th>\n",
       "      <th>Sat. fat</th>\n",
       "    </tr>\n",
       "  </thead>\n",
       "  <tbody>\n",
       "    <tr>\n",
       "      <th>0</th>\n",
       "      <td>Cows' milk, whole</td>\n",
       "      <td>1 qt.</td>\n",
       "      <td>976.0</td>\n",
       "      <td>660.0</td>\n",
       "      <td>32.0</td>\n",
       "      <td>48</td>\n",
       "      <td>0.0</td>\n",
       "      <td>40</td>\n",
       "      <td>36</td>\n",
       "    </tr>\n",
       "    <tr>\n",
       "      <th>1</th>\n",
       "      <td>skim</td>\n",
       "      <td>1 qt.</td>\n",
       "      <td>984.0</td>\n",
       "      <td>360.0</td>\n",
       "      <td>36.0</td>\n",
       "      <td>52</td>\n",
       "      <td>0.0</td>\n",
       "      <td>t</td>\n",
       "      <td>t</td>\n",
       "    </tr>\n",
       "    <tr>\n",
       "      <th>2</th>\n",
       "      <td>Buttermilk, cultured</td>\n",
       "      <td>1 cup</td>\n",
       "      <td>246.0</td>\n",
       "      <td>127.0</td>\n",
       "      <td>9.0</td>\n",
       "      <td>13</td>\n",
       "      <td>0.0</td>\n",
       "      <td>5</td>\n",
       "      <td>4</td>\n",
       "    </tr>\n",
       "    <tr>\n",
       "      <th>3</th>\n",
       "      <td>Evaporated, undiluted</td>\n",
       "      <td>1 cup</td>\n",
       "      <td>252.0</td>\n",
       "      <td>345.0</td>\n",
       "      <td>16.0</td>\n",
       "      <td>24</td>\n",
       "      <td>0.0</td>\n",
       "      <td>20</td>\n",
       "      <td>18</td>\n",
       "    </tr>\n",
       "    <tr>\n",
       "      <th>4</th>\n",
       "      <td>Fortified milk</td>\n",
       "      <td>6 cups</td>\n",
       "      <td>1419.0</td>\n",
       "      <td>1373.0</td>\n",
       "      <td>89.0</td>\n",
       "      <td>119</td>\n",
       "      <td>1.4</td>\n",
       "      <td>42</td>\n",
       "      <td>23</td>\n",
       "    </tr>\n",
       "  </tbody>\n",
       "</table>\n",
       "</div>"
      ],
      "text/plain": [
       "      hideDairy products                                                   \\\n",
       "                    Food Measure   Grams Calories Protein Carb. Fiber Fat   \n",
       "0      Cows' milk, whole   1 qt.   976.0    660.0    32.0    48   0.0  40   \n",
       "1                   skim   1 qt.   984.0    360.0    36.0    52   0.0   t   \n",
       "2   Buttermilk, cultured   1 cup   246.0    127.0     9.0    13   0.0   5   \n",
       "3  Evaporated, undiluted   1 cup   252.0    345.0    16.0    24   0.0  20   \n",
       "4         Fortified milk  6 cups  1419.0   1373.0    89.0   119   1.4  42   \n",
       "\n",
       "            \n",
       "  Sat. fat  \n",
       "0       36  \n",
       "1        t  \n",
       "2        4  \n",
       "3       18  \n",
       "4       23  "
      ]
     },
     "execution_count": 45,
     "metadata": {},
     "output_type": "execute_result"
    }
   ],
   "source": [
    "dairy.head()"
   ]
  },
  {
   "cell_type": "code",
   "execution_count": 46,
   "id": "a1689691",
   "metadata": {},
   "outputs": [],
   "source": [
    "# Define new columns\n",
    "new_cols= ['Item','Quantity','InGrams','Calories','Protein','Carbs','Fiber','Fat','SaturatedFats']"
   ]
  },
  {
   "cell_type": "code",
   "execution_count": 47,
   "id": "a6964797",
   "metadata": {},
   "outputs": [
    {
     "data": {
      "text/html": [
       "<div>\n",
       "<style scoped>\n",
       "    .dataframe tbody tr th:only-of-type {\n",
       "        vertical-align: middle;\n",
       "    }\n",
       "\n",
       "    .dataframe tbody tr th {\n",
       "        vertical-align: top;\n",
       "    }\n",
       "\n",
       "    .dataframe thead th {\n",
       "        text-align: right;\n",
       "    }\n",
       "</style>\n",
       "<table border=\"1\" class=\"dataframe\">\n",
       "  <thead>\n",
       "    <tr style=\"text-align: right;\">\n",
       "      <th></th>\n",
       "      <th>Item</th>\n",
       "      <th>Quantity</th>\n",
       "      <th>InGrams</th>\n",
       "      <th>Calories</th>\n",
       "      <th>Protein</th>\n",
       "      <th>Carbs</th>\n",
       "      <th>Fiber</th>\n",
       "      <th>Fat</th>\n",
       "      <th>SaturatedFats</th>\n",
       "    </tr>\n",
       "  </thead>\n",
       "  <tbody>\n",
       "    <tr>\n",
       "      <th>0</th>\n",
       "      <td>Cows' milk, whole</td>\n",
       "      <td>1 qt.</td>\n",
       "      <td>976.0</td>\n",
       "      <td>660.0</td>\n",
       "      <td>32.0</td>\n",
       "      <td>48</td>\n",
       "      <td>0.0</td>\n",
       "      <td>40</td>\n",
       "      <td>36</td>\n",
       "    </tr>\n",
       "    <tr>\n",
       "      <th>1</th>\n",
       "      <td>skim</td>\n",
       "      <td>1 qt.</td>\n",
       "      <td>984.0</td>\n",
       "      <td>360.0</td>\n",
       "      <td>36.0</td>\n",
       "      <td>52</td>\n",
       "      <td>0.0</td>\n",
       "      <td>t</td>\n",
       "      <td>t</td>\n",
       "    </tr>\n",
       "    <tr>\n",
       "      <th>2</th>\n",
       "      <td>Buttermilk, cultured</td>\n",
       "      <td>1 cup</td>\n",
       "      <td>246.0</td>\n",
       "      <td>127.0</td>\n",
       "      <td>9.0</td>\n",
       "      <td>13</td>\n",
       "      <td>0.0</td>\n",
       "      <td>5</td>\n",
       "      <td>4</td>\n",
       "    </tr>\n",
       "    <tr>\n",
       "      <th>3</th>\n",
       "      <td>Evaporated, undiluted</td>\n",
       "      <td>1 cup</td>\n",
       "      <td>252.0</td>\n",
       "      <td>345.0</td>\n",
       "      <td>16.0</td>\n",
       "      <td>24</td>\n",
       "      <td>0.0</td>\n",
       "      <td>20</td>\n",
       "      <td>18</td>\n",
       "    </tr>\n",
       "    <tr>\n",
       "      <th>4</th>\n",
       "      <td>Fortified milk</td>\n",
       "      <td>6 cups</td>\n",
       "      <td>1419.0</td>\n",
       "      <td>1373.0</td>\n",
       "      <td>89.0</td>\n",
       "      <td>119</td>\n",
       "      <td>1.4</td>\n",
       "      <td>42</td>\n",
       "      <td>23</td>\n",
       "    </tr>\n",
       "  </tbody>\n",
       "</table>\n",
       "</div>"
      ],
      "text/plain": [
       "                    Item Quantity  InGrams  Calories  Protein Carbs  Fiber  \\\n",
       "0      Cows' milk, whole    1 qt.    976.0     660.0     32.0    48    0.0   \n",
       "1                   skim    1 qt.    984.0     360.0     36.0    52    0.0   \n",
       "2   Buttermilk, cultured    1 cup    246.0     127.0      9.0    13    0.0   \n",
       "3  Evaporated, undiluted    1 cup    252.0     345.0     16.0    24    0.0   \n",
       "4         Fortified milk   6 cups   1419.0    1373.0     89.0   119    1.4   \n",
       "\n",
       "  Fat SaturatedFats  \n",
       "0  40            36  \n",
       "1   t             t  \n",
       "2   5             4  \n",
       "3  20            18  \n",
       "4  42            23  "
      ]
     },
     "execution_count": 47,
     "metadata": {},
     "output_type": "execute_result"
    }
   ],
   "source": [
    "# Replace headers with new columns\n",
    "dairy.columns = new_cols\n",
    "dairy.head()"
   ]
  },
  {
   "cell_type": "code",
   "execution_count": 48,
   "id": "8782c431",
   "metadata": {},
   "outputs": [
    {
     "name": "stdout",
     "output_type": "stream",
     "text": [
      "Item is duplicated - False\n"
     ]
    }
   ],
   "source": [
    "# Identify if the item lsit is duplicated\n",
    "print(\"Item is duplicated - {}\".format(any(dairy.Item.duplicated())))"
   ]
  },
  {
   "cell_type": "code",
   "execution_count": 49,
   "id": "7184ce6f",
   "metadata": {},
   "outputs": [
    {
     "name": "stdout",
     "output_type": "stream",
     "text": [
      "The column Item contains NaN - False \n",
      "The column Quantity contains NaN - True \n",
      "The column InGrams contains NaN - True \n",
      "The column Calories contains NaN - True \n",
      "The column Protein contains NaN - True \n",
      "The column Carbs contains NaN - True \n",
      "The column Fiber contains NaN - True \n",
      "The column Fat contains NaN - True \n",
      "The column SaturatedFats contains NaN - True \n"
     ]
    }
   ],
   "source": [
    "# Check for NaN in the columns\n",
    "print(\"The column Item contains NaN - %r \" % dairy.Item.isnull().values.any())\n",
    "print(\"The column Quantity contains NaN - %s \" % dairy.Quantity.isnull().values.any())\n",
    "print(\"The column InGrams contains NaN - %s \" % dairy.InGrams.isnull().values.any())\n",
    "print(\"The column Calories contains NaN - %r \" % dairy.Calories.isnull().values.any())\n",
    "print(\"The column Protein contains NaN - %s \" % dairy.Protein.isnull().values.any())\n",
    "print(\"The column Carbs contains NaN - %s \" % dairy.Carbs.isnull().values.any())\n",
    "print(\"The column Fiber contains NaN - %s \" % dairy.Fiber.isnull().values.any())\n",
    "print(\"The column Fat contains NaN - %s \" % dairy.Fat.isnull().values.any())\n",
    "print(\"The column SaturatedFats contains NaN - %s \" % dairy.SaturatedFats.isnull().values.any())"
   ]
  },
  {
   "cell_type": "code",
   "execution_count": 50,
   "id": "852450e2",
   "metadata": {},
   "outputs": [
    {
     "name": "stdout",
     "output_type": "stream",
     "text": [
      "The size of previous data was - 36 rows and the size of the new one is 29 rows\n"
     ]
    }
   ],
   "source": [
    "# Identify outliers. In this case records that have \"Calories\" as none \n",
    "size_prev = dairy.shape\n",
    "dairy2 = dairy[np.isfinite(dairy['Calories'])] \n",
    "size_after = dairy2.shape\n",
    "# Reporting the difference in size\n",
    "print(\"The size of previous data was - {prev[0]} rows and the size of the new one is {after[0]} rows\".\n",
    "      format(prev=size_prev, after=size_after))"
   ]
  },
  {
   "cell_type": "code",
   "execution_count": 51,
   "id": "f57f2a79",
   "metadata": {},
   "outputs": [
    {
     "data": {
      "text/plain": [
       "{'whiskers': [<matplotlib.lines.Line2D at 0x1ac2816aa90>,\n",
       "  <matplotlib.lines.Line2D at 0x1ac2816adf0>],\n",
       " 'caps': [<matplotlib.lines.Line2D at 0x1ac28815190>,\n",
       "  <matplotlib.lines.Line2D at 0x1ac288154f0>],\n",
       " 'boxes': [<matplotlib.lines.Line2D at 0x1ac2816a730>],\n",
       " 'medians': [<matplotlib.lines.Line2D at 0x1ac28815850>],\n",
       " 'fliers': [<matplotlib.lines.Line2D at 0x1ac28815bb0>],\n",
       " 'means': []}"
      ]
     },
     "execution_count": 51,
     "metadata": {},
     "output_type": "execute_result"
    },
    {
     "data": {
      "image/png": "[encoded data removed]",
      "text/plain": [
       "<Figure size 432x288 with 1 Axes>"
      ]
     },
     "metadata": {
      "needs_background": "light"
     },
     "output_type": "display_data"
    }
   ],
   "source": [
    "# Plotting Box plots to check outliers\n",
    "plt.boxplot(dairy2.Calories, notch=True)"
   ]
  },
  {
   "cell_type": "code",
   "execution_count": 53,
   "id": "deb14644",
   "metadata": {},
   "outputs": [
    {
     "name": "stdout",
     "output_type": "stream",
     "text": [
      "After getting rid of outliers the new size of the data is 28\n"
     ]
    }
   ],
   "source": [
    "# Preserving only the Calories that are less than 1200 Gms to remove outliers\n",
    "dairy3 = dairy2[(dairy2['Calories'] <= 1200)]\n",
    "print(\"After getting rid of outliers the new size of the data is {}\".format(*dairy3.shape))"
   ]
  },
  {
   "cell_type": "code",
   "execution_count": 55,
   "id": "96f7d173",
   "metadata": {},
   "outputs": [
    {
     "name": "stdout",
     "output_type": "stream",
     "text": [
      "Cows' milk, whole Item 16\n",
      "skim Item 3\n",
      "Buttermilk, cultured Item 17\n",
      "Evaporated, undiluted Item 19\n",
      "Powdered milk, whole Item 18\n",
      "skim, instant Item 12\n",
      "skim, non-instant Item 16\n",
      "Goats' milk, fresh Item 16\n",
      "(1/2 cup ice cream) Item 17\n",
      "Cocoa Item 5\n",
      "skim. milk Item 9\n",
      "(cornstarch) Item 11\n",
      "Custard, baked Item 12\n",
      "Ice cream, commercial Item 18\n",
      "Ice milk, commercial Item 17\n",
      "or half-and-half Item 16\n",
      "or whipping Item 11\n",
      "Cheese, cottage, creamed Item 21\n",
      "uncreamed Item 7\n",
      "Cheddar, or American Item 18\n",
      "Cheddar, grated cup Item 17\n",
      "Cream cheese Item 10\n",
      "Processed cheese Item 15\n",
      "Roquefort type Item 13\n",
      "Swiss Item 5\n",
      "or raw Item 6\n",
      "or fried Item 7\n",
      "Yolks only Item 10\n"
     ]
    }
   ],
   "source": [
    "from Levenshtein import distance\n",
    "# Conduct fuzzy matching\n",
    "name_of_group='Item'\n",
    "dairy3['Item']\n",
    "for k in dairy3['Item']:\n",
    "    print(\"{} {} {}\".format(k,name_of_group,distance(name_of_group,k)))"
   ]
  }
 ],
 "metadata": {
  "kernelspec": {
   "display_name": "Python 3",
   "language": "python",
   "name": "python3"
  },
  "language_info": {
   "codemirror_mode": {
    "name": "ipython",
    "version": 3
   },
   "file_extension": ".py",
   "mimetype": "text/x-python",
   "name": "python",
   "nbconvert_exporter": "python",
   "pygments_lexer": "ipython3",
   "version": "3.8.8"
  }
 },
 "nbformat": 4,
 "nbformat_minor": 5
}
