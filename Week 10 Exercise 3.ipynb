{
 "cells": [
  {
   "cell_type": "code",
   "execution_count": 6,
   "id": "f17d916f",
   "metadata": {},
   "outputs": [],
   "source": [
    "import twitter"
   ]
  },
  {
   "cell_type": "code",
   "execution_count": 7,
   "id": "9e0cb35e",
   "metadata": {},
   "outputs": [
    {
     "ename": "TwitterError",
     "evalue": "[{'code': 215, 'message': 'Bad Authentication data.'}]",
     "output_type": "error",
     "traceback": [
      "\u001b[1;31m---------------------------------------------------------------------------\u001b[0m",
      "\u001b[1;31mTwitterError\u001b[0m                              Traceback (most recent call last)",
      "\u001b[1;32m<ipython-input-7-b1bb3af39599>\u001b[0m in \u001b[0;36m<module>\u001b[1;34m\u001b[0m\n\u001b[0;32m      4\u001b[0m     \u001b[0maccess_token_key\u001b[0m\u001b[1;33m=\u001b[0m\u001b[1;34m'11453555132470341638-J4NPZMgwDfYrrqEdN9l7Q4WMZPtPWj'\u001b[0m\u001b[1;33m,\u001b[0m\u001b[1;33m\u001b[0m\u001b[1;33m\u001b[0m\u001b[0m\n\u001b[0;32m      5\u001b[0m     access_token_secret='V6t6fxJ5gZGbddIwNzlJZLbvZOrKJgefAWnZaTujdQpeN')\n\u001b[1;32m----> 6\u001b[1;33m \u001b[0mprint\u001b[0m\u001b[1;33m(\u001b[0m\u001b[0mapi\u001b[0m\u001b[1;33m.\u001b[0m\u001b[0mVerifyCredentials\u001b[0m\u001b[1;33m(\u001b[0m\u001b[1;33m)\u001b[0m\u001b[1;33m)\u001b[0m\u001b[1;33m\u001b[0m\u001b[1;33m\u001b[0m\u001b[0m\n\u001b[0m",
      "\u001b[1;32m~\\anaconda3\\lib\\site-packages\\twitter\\api.py\u001b[0m in \u001b[0;36mVerifyCredentials\u001b[1;34m(self, include_entities, skip_status, include_email)\u001b[0m\n\u001b[0;32m   4698\u001b[0m \u001b[1;33m\u001b[0m\u001b[0m\n\u001b[0;32m   4699\u001b[0m         \u001b[0mresp\u001b[0m \u001b[1;33m=\u001b[0m \u001b[0mself\u001b[0m\u001b[1;33m.\u001b[0m\u001b[0m_RequestUrl\u001b[0m\u001b[1;33m(\u001b[0m\u001b[0murl\u001b[0m\u001b[1;33m,\u001b[0m \u001b[1;34m'GET'\u001b[0m\u001b[1;33m,\u001b[0m \u001b[0mdata\u001b[0m\u001b[1;33m)\u001b[0m\u001b[1;33m\u001b[0m\u001b[1;33m\u001b[0m\u001b[0m\n\u001b[1;32m-> 4700\u001b[1;33m         \u001b[0mdata\u001b[0m \u001b[1;33m=\u001b[0m \u001b[0mself\u001b[0m\u001b[1;33m.\u001b[0m\u001b[0m_ParseAndCheckTwitter\u001b[0m\u001b[1;33m(\u001b[0m\u001b[0mresp\u001b[0m\u001b[1;33m.\u001b[0m\u001b[0mcontent\u001b[0m\u001b[1;33m.\u001b[0m\u001b[0mdecode\u001b[0m\u001b[1;33m(\u001b[0m\u001b[1;34m'utf-8'\u001b[0m\u001b[1;33m)\u001b[0m\u001b[1;33m)\u001b[0m\u001b[1;33m\u001b[0m\u001b[1;33m\u001b[0m\u001b[0m\n\u001b[0m\u001b[0;32m   4701\u001b[0m \u001b[1;33m\u001b[0m\u001b[0m\n\u001b[0;32m   4702\u001b[0m         \u001b[1;32mreturn\u001b[0m \u001b[0mUser\u001b[0m\u001b[1;33m.\u001b[0m\u001b[0mNewFromJsonDict\u001b[0m\u001b[1;33m(\u001b[0m\u001b[0mdata\u001b[0m\u001b[1;33m)\u001b[0m\u001b[1;33m\u001b[0m\u001b[1;33m\u001b[0m\u001b[0m\n",
      "\u001b[1;32m~\\anaconda3\\lib\\site-packages\\twitter\\api.py\u001b[0m in \u001b[0;36m_ParseAndCheckTwitter\u001b[1;34m(self, json_data)\u001b[0m\n\u001b[0;32m   4906\u001b[0m                 \u001b[1;32mraise\u001b[0m \u001b[0mTwitterError\u001b[0m\u001b[1;33m(\u001b[0m\u001b[1;33m{\u001b[0m\u001b[1;34m'message'\u001b[0m\u001b[1;33m:\u001b[0m \u001b[1;34m\"Unauthorized\"\u001b[0m\u001b[1;33m}\u001b[0m\u001b[1;33m)\u001b[0m\u001b[1;33m\u001b[0m\u001b[1;33m\u001b[0m\u001b[0m\n\u001b[0;32m   4907\u001b[0m             \u001b[1;32mraise\u001b[0m \u001b[0mTwitterError\u001b[0m\u001b[1;33m(\u001b[0m\u001b[1;33m{\u001b[0m\u001b[1;34m'Unknown error'\u001b[0m\u001b[1;33m:\u001b[0m \u001b[1;34m'{0}'\u001b[0m\u001b[1;33m.\u001b[0m\u001b[0mformat\u001b[0m\u001b[1;33m(\u001b[0m\u001b[0mjson_data\u001b[0m\u001b[1;33m)\u001b[0m\u001b[1;33m}\u001b[0m\u001b[1;33m)\u001b[0m\u001b[1;33m\u001b[0m\u001b[1;33m\u001b[0m\u001b[0m\n\u001b[1;32m-> 4908\u001b[1;33m         \u001b[0mself\u001b[0m\u001b[1;33m.\u001b[0m\u001b[0m_CheckForTwitterError\u001b[0m\u001b[1;33m(\u001b[0m\u001b[0mdata\u001b[0m\u001b[1;33m)\u001b[0m\u001b[1;33m\u001b[0m\u001b[1;33m\u001b[0m\u001b[0m\n\u001b[0m\u001b[0;32m   4909\u001b[0m         \u001b[1;32mreturn\u001b[0m \u001b[0mdata\u001b[0m\u001b[1;33m\u001b[0m\u001b[1;33m\u001b[0m\u001b[0m\n\u001b[0;32m   4910\u001b[0m \u001b[1;33m\u001b[0m\u001b[0m\n",
      "\u001b[1;32m~\\anaconda3\\lib\\site-packages\\twitter\\api.py\u001b[0m in \u001b[0;36m_CheckForTwitterError\u001b[1;34m(data)\u001b[0m\n\u001b[0;32m   4926\u001b[0m             \u001b[1;32mraise\u001b[0m \u001b[0mTwitterError\u001b[0m\u001b[1;33m(\u001b[0m\u001b[0mdata\u001b[0m\u001b[1;33m[\u001b[0m\u001b[1;34m'error'\u001b[0m\u001b[1;33m]\u001b[0m\u001b[1;33m)\u001b[0m\u001b[1;33m\u001b[0m\u001b[1;33m\u001b[0m\u001b[0m\n\u001b[0;32m   4927\u001b[0m         \u001b[1;32mif\u001b[0m \u001b[1;34m'errors'\u001b[0m \u001b[1;32min\u001b[0m \u001b[0mdata\u001b[0m\u001b[1;33m:\u001b[0m\u001b[1;33m\u001b[0m\u001b[1;33m\u001b[0m\u001b[0m\n\u001b[1;32m-> 4928\u001b[1;33m             \u001b[1;32mraise\u001b[0m \u001b[0mTwitterError\u001b[0m\u001b[1;33m(\u001b[0m\u001b[0mdata\u001b[0m\u001b[1;33m[\u001b[0m\u001b[1;34m'errors'\u001b[0m\u001b[1;33m]\u001b[0m\u001b[1;33m)\u001b[0m\u001b[1;33m\u001b[0m\u001b[1;33m\u001b[0m\u001b[0m\n\u001b[0m\u001b[0;32m   4929\u001b[0m \u001b[1;33m\u001b[0m\u001b[0m\n\u001b[0;32m   4930\u001b[0m     \u001b[1;32mdef\u001b[0m \u001b[0m_RequestChunkedUpload\u001b[0m\u001b[1;33m(\u001b[0m\u001b[0mself\u001b[0m\u001b[1;33m,\u001b[0m \u001b[0murl\u001b[0m\u001b[1;33m,\u001b[0m \u001b[0mheaders\u001b[0m\u001b[1;33m,\u001b[0m \u001b[0mdata\u001b[0m\u001b[1;33m)\u001b[0m\u001b[1;33m:\u001b[0m\u001b[1;33m\u001b[0m\u001b[1;33m\u001b[0m\u001b[0m\n",
      "\u001b[1;31mTwitterError\u001b[0m: [{'code': 215, 'message': 'Bad Authentication data.'}]"
     ]
    }
   ],
   "source": [
    "# Setup keys\n",
    "api = twitter.Api(consumer_key='gVddXY0FX7FJUcyBbv9l4brJQ',\n",
    "  consumer_secret='UqknfmI6xQJ4aAPlXmef9e4M4ykaQ6jZUTnEgqLKdj0BMc1h2l',\n",
    "    access_token_key='11453555132470341638-J4NPZMgwDfYrrqEdN9l7Q4WMZPtPWj',\n",
    "    access_token_secret='V6t6fxJ5gZGbddIwNzlJZLbvZOrKJgefAWnZaTujdQpeN')\n",
    "print(api.VerifyCredentials())"
   ]
  },
  {
   "cell_type": "code",
   "execution_count": 54,
   "id": "2c8b2560",
   "metadata": {},
   "outputs": [
    {
     "data": {
      "text/plain": [
       "[Status(ID=1481826000669396992, ScreenName=Jeremy_matu86, Created=Fri Jan 14 03:10:24 +0000 2022, Text='RT @LaylaRosalia: I’m happy and excited to announce my verbal commitment to Bellevue University to continue my academic and soccer career!…'),\n",
       " Status(ID=1481823496275738626, ScreenName=avaaustin_17, Created=Fri Jan 14 03:00:27 +0000 2022, Text='RT @LaylaRosalia: I’m happy and excited to announce my verbal commitment to Bellevue University to continue my academic and soccer career!…'),\n",
       " Status(ID=1481814495055994883, ScreenName=Marc0sVazquez, Created=Fri Jan 14 02:24:41 +0000 2022, Text='RT @LaylaRosalia: I’m happy and excited to announce my verbal commitment to Bellevue University to continue my academic and soccer career!…'),\n",
       " Status(ID=1481771858076700678, ScreenName=BellevueChamber, Created=Thu Jan 13 23:35:15 +0000 2022, Text='Are you looking for a way to enhance your business leadership skills? The Bellevue Chamber in collaboration with th… https://t.co/1Vs5CbwMRi'),\n",
       " Status(ID=1481771853769236481, ScreenName=sinaibernal7, Created=Thu Jan 13 23:35:14 +0000 2022, Text='RT @LaylaRosalia: I’m happy and excited to announce my verbal commitment to Bellevue University to continue my academic and soccer career!…'),\n",
       " Status(ID=1481769007543988226, ScreenName=gpaulson45, Created=Thu Jan 13 23:23:55 +0000 2022, Text='RT @LaylaRosalia: I’m happy and excited to announce my verbal commitment to Bellevue University to continue my academic and soccer career!…'),\n",
       " Status(ID=1481763572833259522, ScreenName=bdred97, Created=Thu Jan 13 23:02:20 +0000 2022, Text='RT @LaylaRosalia: I’m happy and excited to announce my verbal commitment to Bellevue University to continue my academic and soccer career!…'),\n",
       " Status(ID=1481762296007434245, ScreenName=BU_WomenSoccer, Created=Thu Jan 13 22:57:15 +0000 2022, Text='RT @LaylaRosalia: I’m happy and excited to announce my verbal commitment to Bellevue University to continue my academic and soccer career!…'),\n",
       " Status(ID=1481762249966559237, ScreenName=BEASTGIRLSOCCER, Created=Thu Jan 13 22:57:04 +0000 2022, Text='RT @LaylaRosalia: I’m happy and excited to announce my verbal commitment to Bellevue University to continue my academic and soccer career!…'),\n",
       " Status(ID=1481760054869118981, ScreenName=SipresHoefer, Created=Thu Jan 13 22:48:21 +0000 2022, Text='RT @LaylaRosalia: I’m happy and excited to announce my verbal commitment to Bellevue University to continue my academic and soccer career!…')]"
      ]
     },
     "execution_count": 54,
     "metadata": {},
     "output_type": "execute_result"
    }
   ],
   "source": [
    "# Pull information from Twitter on 'Bellevue University' and cap the tweets to 10\n",
    "api.GetSearch(term='Bellevue University', since=2020-1-1, count=10)"
   ]
  },
  {
   "cell_type": "code",
   "execution_count": 56,
   "id": "d11acd24",
   "metadata": {},
   "outputs": [
    {
     "data": {
      "text/plain": [
       "[Status(ID=1481822614070906884, ScreenName=yourvivicharmx, Created=Fri Jan 14 02:56:56 +0000 2022, Text='RT @perksofbeingdee: Taco Daddy, Stamford CT. https://t.co/1X4QdiB3gj'),\n",
       " Status(ID=1481810594948911109, ScreenName=DonDonMontana_, Created=Fri Jan 14 02:09:11 +0000 2022, Text=\"@ella_thereal too ! I'm like wtf y'all keep coming to CT wlto host parties in these weird ass towns.. do it in the… https://t.co/RRSZ1SDS40\"),\n",
       " Status(ID=1481810294141865984, ScreenName=SeanPultz, Created=Fri Jan 14 02:07:59 +0000 2022, Text='@PinkNinjaBlogg As I explained in my video, I would like to see a Ghostbusters branch in a different city like Chic… https://t.co/gs3eZhfCbs'),\n",
       " Status(ID=1481806208990429184, ScreenName=SafeLaserLLC, Created=Fri Jan 14 01:51:45 +0000 2022, Text='Quit Smoking - Quit Smoking Safe Laser Therapy - Stamford, CT Call (203) 601-7772 https://t.co/zwBHOcPtuV #safelasertherapyllc'),\n",
       " Status(ID=1481803276194656256, ScreenName=insider_ct, Created=Fri Jan 14 01:40:06 +0000 2022, Text='Danbury defeats Stamford behind big nights from Perreault and Froehlich https://t.co/gG3Lh2U1Ds'),\n",
       " Status(ID=1481794407846326274, ScreenName=Sebas_Calleri, Created=Fri Jan 14 01:04:51 +0000 2022, Text='RT @volf_eva: #throwbackthursday to several months ago when my waterscape in indigo “Silver Ripples” along with several of other paintings…'),\n",
       " Status(ID=1481783099071606791, ScreenName=entryonly, Created=Fri Jan 14 00:19:55 +0000 2022, Text='Another Property Sold - 65 Glenbrook Road #3D, Stamford, CT 06902 https://t.co/b3tIurAvy1'),\n",
       " Status(ID=1481772417844641793, ScreenName=ranhy98, Created=Thu Jan 13 23:37:29 +0000 2022, Text='McMahon vs Westhill | Connecticut High School Basketball LIVE STREAM\\n𝕎𝔸𝕋ℂℍ 𝕃𝕚𝕧𝕖 ℍ𝔻 𝕋𝕍 : ▶️ https://t.co/bagdSXMac3… https://t.co/nISkcUrui2'),\n",
       " Status(ID=1481771491725553666, ScreenName=ranhy98, Created=Thu Jan 13 23:33:48 +0000 2022, Text='Stamford vs Danbury | Connecticut High School Basketball LIVE STREAM\\n𝕎𝔸𝕋ℂℍ 𝕃𝕚𝕧𝕖 ℍ𝔻 𝕋𝕍 : ▶️ https://t.co/bagdSXMac3… https://t.co/wDOdci8FLi')]"
      ]
     },
     "execution_count": 56,
     "metadata": {},
     "output_type": "execute_result"
    }
   ],
   "source": [
    "# Pull information from Twitter on 'Stamford CT' and cap the tweets to 10\n",
    "api.GetSearch(term='Stamford CT', since=2020-1-1, count=10)"
   ]
  },
  {
   "cell_type": "code",
   "execution_count": 61,
   "id": "166e7cf7",
   "metadata": {},
   "outputs": [
    {
     "name": "stdout",
     "output_type": "stream",
     "text": [
      "Today's COVID-19 update in Connecticut:\n",
      "\n",
      "➡️34,460 tests were administered and 7,318 came back positive (21.24% rate… https://t.co/NetYoFTP48\n"
     ]
    }
   ],
   "source": [
    "# Pull information from Twitter on 'Stamford CT' and cap the tweets to 10\n",
    "obj=api.GetSearch(term='COVID-19 update in Connecticut', since=2022-1-1, count=1)\n",
    "print(obj[0]._json['text'])\n",
    "#print(obj[0]._json)"
   ]
  },
  {
   "cell_type": "code",
   "execution_count": 68,
   "id": "f6348784",
   "metadata": {},
   "outputs": [
    {
     "name": "stdout",
     "output_type": "stream",
     "text": [
      "3.5\n"
     ]
    }
   ],
   "source": [
    "print(twitter.__version__)"
   ]
  }
 ],
 "metadata": {
  "kernelspec": {
   "display_name": "Python 3",
   "language": "python",
   "name": "python3"
  },
  "language_info": {
   "codemirror_mode": {
    "name": "ipython",
    "version": 3
   },
   "file_extension": ".py",
   "mimetype": "text/x-python",
   "name": "python",
   "nbconvert_exporter": "python",
   "pygments_lexer": "ipython3",
   "version": "3.8.8"
  }
 },
 "nbformat": 4,
 "nbformat_minor": 5
}
