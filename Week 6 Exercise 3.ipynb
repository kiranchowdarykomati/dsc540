{
 "cells": [
  {
   "cell_type": "code",
   "execution_count": 23,
   "id": "d53c3988",
   "metadata": {},
   "outputs": [],
   "source": [
    "import sqlite3\n",
    "query = \"\"\"CREATE TABLE details \n",
    "(Name VARCHAR(100), Address VARCHAR(200),City VARCHAR(100),State VARCHAR(50),zip VARCHAR(10), PhoneNo INTEGER);\"\"\""
   ]
  },
  {
   "cell_type": "code",
   "execution_count": 24,
   "id": "d9c1ac76",
   "metadata": {},
   "outputs": [],
   "source": [
    "con = sqlite3.connect('mydata.sqlite')"
   ]
  },
  {
   "cell_type": "code",
   "execution_count": 25,
   "id": "efa6c07b",
   "metadata": {},
   "outputs": [
    {
     "data": {
      "text/plain": [
       "<sqlite3.Cursor at 0x19a695a46c0>"
      ]
     },
     "execution_count": 25,
     "metadata": {},
     "output_type": "execute_result"
    }
   ],
   "source": [
    "# Execute the table creation\n",
    "con.execute(query)"
   ]
  },
  {
   "cell_type": "code",
   "execution_count": 26,
   "id": "ab9197ef",
   "metadata": {},
   "outputs": [],
   "source": [
    "# Commit to table\n",
    "con.commit()"
   ]
  },
  {
   "cell_type": "code",
   "execution_count": 27,
   "id": "f85a4d6e",
   "metadata": {},
   "outputs": [],
   "source": [
    "# Insert Data into table\n",
    "data = [\n",
    " ('Kiran', 'Strawberry Hill', 'Stamford','Connecicut','06902', '2031234567'),\n",
    " ('Kiran', 'Strawberry Hill', 'Stamford','Connecicut','06902', '2031234568'),\n",
    " ('Maneesha', 'Strawberry Plaza', 'Stamford','Connecicut','06902', '2031234577'),\n",
    " ('Anshi', 'Strawberry Court', 'Stamford','Connecicut','06902', '2031234566'),\n",
    " ('Komati', 'Strawberry Lane', 'Stamford','Connecicut','06902', '2031234569'),\n",
    " ('Raja', 'Morgan Lane', 'Hartford','Connecicut','06902', '2031234570'),\n",
    " ('Venkat', 'Stanley Drive', 'Manchester','Connecicut','06902', '2031234669'),\n",
    " ('Selva', 'Strawberry Lane', 'Windsor','Connecicut','06902', '2031244569'),\n",
    " ('Anvi', 'Strawberry Lane', 'NY City','New York','06902', '2031634569'),\n",
    " ('Aditi', 'Strawberry Lane', 'Hartford','Connecicut','06902', '2038234569')]\n",
    "stmt = \"INSERT INTO details VALUES(?, ?, ?, ?, ?, ?)\"\n",
    "con.executemany(stmt, data)\n",
    "con.commit()"
   ]
  },
  {
   "cell_type": "code",
   "execution_count": 28,
   "id": "c6fd3615",
   "metadata": {},
   "outputs": [],
   "source": [
    "cursor = con.execute('select * from details')"
   ]
  },
  {
   "cell_type": "code",
   "execution_count": 29,
   "id": "b8c3aba4",
   "metadata": {},
   "outputs": [
    {
     "data": {
      "text/plain": [
       "[('Kiran', 'Strawberry Hill', 'Stamford', 'Connecicut', '06902', 2031234567),\n",
       " ('Kiran', 'Strawberry Hill', 'Stamford', 'Connecicut', '06902', 2031234568),\n",
       " ('Maneesha',\n",
       "  'Strawberry Plaza',\n",
       "  'Stamford',\n",
       "  'Connecicut',\n",
       "  '06902',\n",
       "  2031234577),\n",
       " ('Anshi', 'Strawberry Court', 'Stamford', 'Connecicut', '06902', 2031234566),\n",
       " ('Komati', 'Strawberry Lane', 'Stamford', 'Connecicut', '06902', 2031234569),\n",
       " ('Raja', 'Morgan Lane', 'Hartford', 'Connecicut', '06902', 2031234570),\n",
       " ('Venkat', 'Stanley Drive', 'Manchester', 'Connecicut', '06902', 2031234669),\n",
       " ('Selva', 'Strawberry Lane', 'Windsor', 'Connecicut', '06902', 2031244569),\n",
       " ('Anvi', 'Strawberry Lane', 'NY City', 'New York', '06902', 2031634569),\n",
       " ('Aditi', 'Strawberry Lane', 'Hartford', 'Connecicut', '06902', 2038234569)]"
      ]
     },
     "execution_count": 29,
     "metadata": {},
     "output_type": "execute_result"
    }
   ],
   "source": [
    "rows = cursor.fetchall()\n",
    "rows"
   ]
  }
 ],
 "metadata": {
  "kernelspec": {
   "display_name": "Python 3",
   "language": "python",
   "name": "python3"
  },
  "language_info": {
   "codemirror_mode": {
    "name": "ipython",
    "version": 3
   },
   "file_extension": ".py",
   "mimetype": "text/x-python",
   "name": "python",
   "nbconvert_exporter": "python",
   "pygments_lexer": "ipython3",
   "version": "3.8.8"
  }
 },
 "nbformat": 4,
 "nbformat_minor": 5
}
