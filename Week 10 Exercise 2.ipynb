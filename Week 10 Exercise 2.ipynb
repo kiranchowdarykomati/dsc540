{
 "cells": [
  {
   "cell_type": "code",
   "execution_count": 51,
   "id": "49c5ef56",
   "metadata": {},
   "outputs": [],
   "source": [
    "import urllib.request, urllib.parse, urllib.error\n",
    "import json"
   ]
  },
  {
   "cell_type": "code",
   "execution_count": 52,
   "id": "a9f5063e",
   "metadata": {},
   "outputs": [],
   "source": [
    "with open('APIkeys.json') as f:\n",
    "    keys = json.load(f)\n",
    "    omdbapi = keys['OMDBapi']"
   ]
  },
  {
   "cell_type": "code",
   "execution_count": 53,
   "id": "05cb3dec",
   "metadata": {},
   "outputs": [],
   "source": [
    "serviceurl = 'http://www.omdbapi.com/?'\n",
    "apikey = '&apikey='+omdbapi"
   ]
  },
  {
   "cell_type": "code",
   "execution_count": 54,
   "id": "29c217fd",
   "metadata": {},
   "outputs": [],
   "source": [
    "def print_json(json_data):\n",
    "    list_keys=['Title', 'Year', 'Rated', 'Released', 'Runtime', 'Genre', 'Director', 'Writer','Actors', 'Plot', 'Language',\n",
    "               'Country', 'Awards', 'Ratings', 'Metascore','imdbRating', 'imdbVotes', 'imdbID']\n",
    "    print(\"-\"*50)\n",
    "    for k in list_keys:\n",
    "        if k in list(json_data.keys()):\n",
    "            print(f\"{k}: {json_data[k]}\")\n",
    "            print(\"-\"*50)"
   ]
  },
  {
   "cell_type": "code",
   "execution_count": 55,
   "id": "841e991a",
   "metadata": {},
   "outputs": [],
   "source": [
    "def save_poster(json_data):\n",
    "    import os\n",
    "    title = json_data['Title']\n",
    "    poster_url = json_data['Poster']\n",
    "    # Splits the poster url by '.' and picks up the last string as file extension\n",
    "    poster_file_extension=poster_url.split('.')[-1]\n",
    "    # Reads the image file from web\n",
    "    poster_data = urllib.request.urlopen(poster_url).read()\n",
    "    savelocation=os.getcwd()+'\\\\'+'Posters'+'\\\\'\n",
    "    # Creates new directory if the directory does not exist. Otherwise, just use the existing path.\n",
    "    if not os.path.isdir(savelocation):\n",
    "        os.mkdir(savelocation)\n",
    "        filename=savelocation+str(title)+'.'+poster_file_extension \n",
    "        f=open(filename,'wb')\n",
    "        f.write(poster_data)\n",
    "        f.close()\n"
   ]
  },
  {
   "cell_type": "code",
   "execution_count": 56,
   "id": "353ff88e",
   "metadata": {},
   "outputs": [],
   "source": [
    "def search_movie(title):\n",
    "    try:\n",
    "        url = serviceurl + urllib.parse.urlencode({'t': str(title)})+apikey \n",
    "        print(f'Retrieving the data of \"{title}\" now... ') \n",
    "        print(url)\n",
    "        uh = urllib.request.urlopen(url)\n",
    "        data = uh.read()\n",
    "        json_data=json.loads(data)\n",
    "        if json_data['Response'] == 'True':\n",
    "            print_json(json_data)\n",
    "            # Asks user whether to download the poster of the movie\n",
    "        if json_data['Poster'] != 'N/A':\n",
    "            save_poster(json_data)\n",
    "        else:\n",
    "            print(\"Error encountered: \",json_data['Error'])\n",
    "    except urllib.error.URLError as e:\n",
    "        print(f\"ERROR: {e.reason}\")\n"
   ]
  },
  {
   "cell_type": "code",
   "execution_count": 57,
   "id": "2cda1e3c",
   "metadata": {},
   "outputs": [
    {
     "name": "stdout",
     "output_type": "stream",
     "text": [
      "Retrieving the data of \"Titanic\" now... \n",
      "http://www.omdbapi.com/?t=Titanic&apikey=51e8e18c\n",
      "--------------------------------------------------\n",
      "Title: Titanic\n",
      "--------------------------------------------------\n",
      "Year: 1997\n",
      "--------------------------------------------------\n",
      "Rated: PG-13\n",
      "--------------------------------------------------\n",
      "Released: 19 Dec 1997\n",
      "--------------------------------------------------\n",
      "Runtime: 194 min\n",
      "--------------------------------------------------\n",
      "Genre: Drama, Romance\n",
      "--------------------------------------------------\n",
      "Director: James Cameron\n",
      "--------------------------------------------------\n",
      "Writer: James Cameron\n",
      "--------------------------------------------------\n",
      "Actors: Leonardo DiCaprio, Kate Winslet, Billy Zane\n",
      "--------------------------------------------------\n",
      "Plot: A seventeen-year-old aristocrat falls in love with a kind but poor artist aboard the luxurious, ill-fated R.M.S. Titanic.\n",
      "--------------------------------------------------\n",
      "Language: English, Swedish, Italian, French\n",
      "--------------------------------------------------\n",
      "Country: United States, Mexico, Australia\n",
      "--------------------------------------------------\n",
      "Awards: Won 11 Oscars. 125 wins & 83 nominations total\n",
      "--------------------------------------------------\n",
      "Ratings: [{'Source': 'Internet Movie Database', 'Value': '7.8/10'}, {'Source': 'Rotten Tomatoes', 'Value': '89%'}, {'Source': 'Metacritic', 'Value': '75/100'}]\n",
      "--------------------------------------------------\n",
      "Metascore: 75\n",
      "--------------------------------------------------\n",
      "imdbRating: 7.8\n",
      "--------------------------------------------------\n",
      "imdbVotes: 1,098,236\n",
      "--------------------------------------------------\n",
      "imdbID: tt0120338\n",
      "--------------------------------------------------\n"
     ]
    }
   ],
   "source": [
    "search_movie(\"Titanic\")"
   ]
  }
 ],
 "metadata": {
  "kernelspec": {
   "display_name": "Python 3",
   "language": "python",
   "name": "python3"
  },
  "language_info": {
   "codemirror_mode": {
    "name": "ipython",
    "version": 3
   },
   "file_extension": ".py",
   "mimetype": "text/x-python",
   "name": "python",
   "nbconvert_exporter": "python",
   "pygments_lexer": "ipython3",
   "version": "3.8.8"
  }
 },
 "nbformat": 4,
 "nbformat_minor": 5
}
