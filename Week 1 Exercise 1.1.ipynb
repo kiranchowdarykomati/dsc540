{
 "cells": [
  {
   "cell_type": "code",
   "execution_count": 73,
   "id": "2fc83b7d",
   "metadata": {},
   "outputs": [
    {
     "data": {
      "text/plain": [
       "[10, 8, 20, 14, 12, 35]"
      ]
     },
     "execution_count": 73,
     "metadata": {},
     "output_type": "execute_result"
    }
   ],
   "source": [
    "List = [10, 8, 20, 14, 12, 35] # Create a list\n",
    "List"
   ]
  },
  {
   "cell_type": "code",
   "execution_count": 74,
   "id": "a9ef08e6",
   "metadata": {},
   "outputs": [
    {
     "data": {
      "text/plain": [
       "[(1, 8), (0, 10), (4, 12), (3, 14), (2, 20), (5, 35)]"
      ]
     },
     "execution_count": 74,
     "metadata": {},
     "output_type": "execute_result"
    }
   ],
   "source": [
    "list2 = list(enumerate(List)) # Iterate over a list\n",
    "list3 = sorted(list2, key=lambda x: x[1])\n",
    "list3"
   ]
  },
  {
   "cell_type": "code",
   "execution_count": 75,
   "id": "41f81744",
   "metadata": {},
   "outputs": [
    {
     "data": {
      "text/plain": [
       "[10, 8, 20, 14, 12, 35, 97]"
      ]
     },
     "execution_count": 75,
     "metadata": {},
     "output_type": "execute_result"
    }
   ],
   "source": [
    "from random import randrange \n",
    "x=randrange(100) # Generate Random number\n",
    "List.append(x) # add to the list\n",
    "List # print list"
   ]
  }
 ],
 "metadata": {
  "kernelspec": {
   "display_name": "Python 3",
   "language": "python",
   "name": "python3"
  },
  "language_info": {
   "codemirror_mode": {
    "name": "ipython",
    "version": 3
   },
   "file_extension": ".py",
   "mimetype": "text/x-python",
   "name": "python",
   "nbconvert_exporter": "python",
   "pygments_lexer": "ipython3",
   "version": "3.8.8"
  }
 },
 "nbformat": 4,
 "nbformat_minor": 5
}
