{
 "cells": [
  {
   "cell_type": "code",
   "execution_count": 2,
   "id": "bdeaa142",
   "metadata": {},
   "outputs": [],
   "source": [
    "import pandas as pd\n",
    "import numpy as np\n",
    "import matplotlib.pyplot as plt\n",
    "import sqlite3\n",
    "from urllib.request import urlopen\n",
    "import requests\n",
    "import json\n",
    "from pandas import json_normalize"
   ]
  },
  {
   "cell_type": "code",
   "execution_count": 3,
   "id": "70d7bc31",
   "metadata": {},
   "outputs": [],
   "source": [
    "# Reading the data into a dataframe and exclude first 4 rows that has information on data and columns\n",
    "# and reading 12 relavant columns\n",
    "ND=pd.read_excel(\"Nutrition-Facts.xlsx\",sheet_name='SR Legacy and FNDDS',header=4,usecols = \"A:K,DM\")"
   ]
  },
  {
   "cell_type": "code",
   "execution_count": 4,
   "id": "b6a6e5d1",
   "metadata": {},
   "outputs": [
    {
     "data": {
      "text/html": [
       "<div>\n",
       "<style scoped>\n",
       "    .dataframe tbody tr th:only-of-type {\n",
       "        vertical-align: middle;\n",
       "    }\n",
       "\n",
       "    .dataframe tbody tr th {\n",
       "        vertical-align: top;\n",
       "    }\n",
       "\n",
       "    .dataframe thead th {\n",
       "        text-align: right;\n",
       "    }\n",
       "</style>\n",
       "<table border=\"1\" class=\"dataframe\">\n",
       "  <thead>\n",
       "    <tr style=\"text-align: right;\">\n",
       "      <th></th>\n",
       "      <th>ID</th>\n",
       "      <th>ItemName</th>\n",
       "      <th>FoodGroup</th>\n",
       "      <th>CaloriesPer100Gms</th>\n",
       "      <th>FatinGms</th>\n",
       "      <th>ProteininGms</th>\n",
       "      <th>CarbsinGms</th>\n",
       "      <th>SugarsinGms</th>\n",
       "      <th>FiberinGms</th>\n",
       "      <th>CholesterolinGms</th>\n",
       "      <th>SaturatedFatsinGms</th>\n",
       "      <th>CalorieWeight_200</th>\n",
       "    </tr>\n",
       "  </thead>\n",
       "  <tbody>\n",
       "    <tr>\n",
       "      <th>0</th>\n",
       "      <td>167513</td>\n",
       "      <td>Pillsbury Cinnamon Rolls With Icing Refrigerat...</td>\n",
       "      <td>Baked Foods</td>\n",
       "      <td>330.0</td>\n",
       "      <td>11.27</td>\n",
       "      <td>4.34</td>\n",
       "      <td>53.42</td>\n",
       "      <td>21.34</td>\n",
       "      <td>1.4</td>\n",
       "      <td>0.0</td>\n",
       "      <td>3.25</td>\n",
       "      <td>60.606</td>\n",
       "    </tr>\n",
       "    <tr>\n",
       "      <th>1</th>\n",
       "      <td>167514</td>\n",
       "      <td>Kraft Foods Shake N Bake Original Recipe Coati...</td>\n",
       "      <td>Baked Foods</td>\n",
       "      <td>377.0</td>\n",
       "      <td>3.70</td>\n",
       "      <td>6.10</td>\n",
       "      <td>79.80</td>\n",
       "      <td></td>\n",
       "      <td></td>\n",
       "      <td></td>\n",
       "      <td></td>\n",
       "      <td>53.05</td>\n",
       "    </tr>\n",
       "    <tr>\n",
       "      <th>2</th>\n",
       "      <td>167515</td>\n",
       "      <td>George Weston Bakeries Thomas English Muffins</td>\n",
       "      <td>Baked Foods</td>\n",
       "      <td>232.0</td>\n",
       "      <td>1.80</td>\n",
       "      <td>8.00</td>\n",
       "      <td>46.00</td>\n",
       "      <td></td>\n",
       "      <td></td>\n",
       "      <td></td>\n",
       "      <td>0.308</td>\n",
       "      <td>86.207</td>\n",
       "    </tr>\n",
       "    <tr>\n",
       "      <th>3</th>\n",
       "      <td>167516</td>\n",
       "      <td>Waffles Buttermilk Frozen Ready-To-Heat</td>\n",
       "      <td>Baked Foods</td>\n",
       "      <td>273.0</td>\n",
       "      <td>9.22</td>\n",
       "      <td>6.58</td>\n",
       "      <td>41.05</td>\n",
       "      <td>4.3</td>\n",
       "      <td>2.2</td>\n",
       "      <td>15.0</td>\n",
       "      <td>1.898</td>\n",
       "      <td>73.26</td>\n",
       "    </tr>\n",
       "    <tr>\n",
       "      <th>4</th>\n",
       "      <td>167517</td>\n",
       "      <td>Waffle Buttermilk Frozen Ready-To-Heat Toasted</td>\n",
       "      <td>Baked Foods</td>\n",
       "      <td>309.0</td>\n",
       "      <td>9.49</td>\n",
       "      <td>7.42</td>\n",
       "      <td>48.39</td>\n",
       "      <td>4.41</td>\n",
       "      <td>2.6</td>\n",
       "      <td>13.0</td>\n",
       "      <td>2.275</td>\n",
       "      <td>64.725</td>\n",
       "    </tr>\n",
       "  </tbody>\n",
       "</table>\n",
       "</div>"
      ],
      "text/plain": [
       "       ID                                           ItemName    FoodGroup  \\\n",
       "0  167513  Pillsbury Cinnamon Rolls With Icing Refrigerat...  Baked Foods   \n",
       "1  167514  Kraft Foods Shake N Bake Original Recipe Coati...  Baked Foods   \n",
       "2  167515      George Weston Bakeries Thomas English Muffins  Baked Foods   \n",
       "3  167516            Waffles Buttermilk Frozen Ready-To-Heat  Baked Foods   \n",
       "4  167517     Waffle Buttermilk Frozen Ready-To-Heat Toasted  Baked Foods   \n",
       "\n",
       "   CaloriesPer100Gms  FatinGms  ProteininGms  CarbsinGms SugarsinGms  \\\n",
       "0              330.0     11.27          4.34       53.42       21.34   \n",
       "1              377.0      3.70          6.10       79.80               \n",
       "2              232.0      1.80          8.00       46.00               \n",
       "3              273.0      9.22          6.58       41.05         4.3   \n",
       "4              309.0      9.49          7.42       48.39        4.41   \n",
       "\n",
       "  FiberinGms CholesterolinGms SaturatedFatsinGms CalorieWeight_200  \n",
       "0        1.4              0.0               3.25            60.606  \n",
       "1                                                            53.05  \n",
       "2                                          0.308            86.207  \n",
       "3        2.2             15.0              1.898             73.26  \n",
       "4        2.6             13.0              2.275            64.725  "
      ]
     },
     "execution_count": 4,
     "metadata": {},
     "output_type": "execute_result"
    }
   ],
   "source": [
    "# New Column names\n",
    "new_cols = ['ID', 'ItemName', 'FoodGroup', 'CaloriesPer100Gms', 'FatinGms', 'ProteininGms','CarbsinGms','SugarsinGms','FiberinGms','CholesterolinGms','SaturatedFatsinGms','CalorieWeight_200']\n",
    "# Renaming Column Names\n",
    "ND.columns = new_cols\n",
    "ND.fillna('', inplace=True)\n",
    "ND1=ND.head(500)\n",
    "ND1.head(5)"
   ]
  },
  {
   "cell_type": "code",
   "execution_count": 5,
   "id": "3c1d4420",
   "metadata": {},
   "outputs": [],
   "source": [
    "# Function to create a connection to sqlite\n",
    "def create_connection(db_file):\n",
    "    \"\"\" create a database connection to a SQLite database \"\"\"\n",
    "    conn = None\n",
    "    try:\n",
    "        conn = sqlite3.connect(db_file)\n",
    "        print(sqlite3.version)\n",
    "    except Error as e:\n",
    "        print(e)\n",
    "    finally:\n",
    "        if conn:\n",
    "            conn.close()"
   ]
  },
  {
   "cell_type": "code",
   "execution_count": 6,
   "id": "7cd905f8",
   "metadata": {},
   "outputs": [
    {
     "name": "stdout",
     "output_type": "stream",
     "text": [
      "2.6.0\n"
     ]
    }
   ],
   "source": [
    "create_connection(\"pythonsqlite.db\")"
   ]
  },
  {
   "cell_type": "code",
   "execution_count": 7,
   "id": "1ca9d631",
   "metadata": {},
   "outputs": [
    {
     "name": "stdout",
     "output_type": "stream",
     "text": [
      "Table created successfully........\n"
     ]
    }
   ],
   "source": [
    "#Connecting to sqlite\n",
    "conn = sqlite3.connect('pythonsqlite.db')\n",
    "\n",
    "#Creating a cursor object using the cursor() method\n",
    "cursor = conn.cursor()\n",
    "\n",
    "#Droping T_NUTRITION_EXCEL table if already exists.\n",
    "cursor.execute(\"DROP TABLE IF EXISTS T_NUTRITION_EXCEL\")\n",
    "\n",
    "#Creating table as per requirement\n",
    "sql ='''CREATE TABLE T_NUTRITION_EXCEL(\n",
    "   Id text,\n",
    "   ItemName text,\n",
    "   FoodGroup text,\n",
    "   CaloriesPer_100Gms REAL, \n",
    "   FatinGms REAL, \n",
    "   ProteininGms REAL,\n",
    "   CarbsinGms REAL,\n",
    "   SugarsinGms REAL,\n",
    "   FiberinGms REAL,\n",
    "   CholesterolinGms REAL,\n",
    "   SaturatedFatsinGms REAL,\n",
    "   CalorieWeight_200 REAL\n",
    ")'''\n",
    "\n",
    "cursor.execute(sql)\n",
    "print(\"Table created successfully........\")"
   ]
  },
  {
   "cell_type": "code",
   "execution_count": 8,
   "id": "cf000b85",
   "metadata": {},
   "outputs": [],
   "source": [
    "# Convert DataFrame to sql\n",
    "    \n",
    "ND1.to_sql('T_NUTRITION_EXCEL', conn, if_exists='replace', index = False)"
   ]
  },
  {
   "cell_type": "code",
   "execution_count": 9,
   "id": "d73970f9",
   "metadata": {},
   "outputs": [],
   "source": [
    "# Read from html\n",
    "tables = pd.read_html('Table of food nutrients - Wikipedia.html')\n",
    "dairy=tables[0]"
   ]
  },
  {
   "cell_type": "code",
   "execution_count": 10,
   "id": "b128fabf",
   "metadata": {},
   "outputs": [],
   "source": [
    "# Define new columns\n",
    "new_cols= ['ItemName','Quantity','InGrams','Calories','Protein','Carbs','Fiber','Fat','SaturatedFats']"
   ]
  },
  {
   "cell_type": "code",
   "execution_count": 11,
   "id": "175adec7",
   "metadata": {},
   "outputs": [
    {
     "data": {
      "text/html": [
       "<div>\n",
       "<style scoped>\n",
       "    .dataframe tbody tr th:only-of-type {\n",
       "        vertical-align: middle;\n",
       "    }\n",
       "\n",
       "    .dataframe tbody tr th {\n",
       "        vertical-align: top;\n",
       "    }\n",
       "\n",
       "    .dataframe thead th {\n",
       "        text-align: right;\n",
       "    }\n",
       "</style>\n",
       "<table border=\"1\" class=\"dataframe\">\n",
       "  <thead>\n",
       "    <tr style=\"text-align: right;\">\n",
       "      <th></th>\n",
       "      <th>ItemName</th>\n",
       "      <th>Quantity</th>\n",
       "      <th>InGrams</th>\n",
       "      <th>Calories</th>\n",
       "      <th>Protein</th>\n",
       "      <th>Carbs</th>\n",
       "      <th>Fiber</th>\n",
       "      <th>Fat</th>\n",
       "      <th>SaturatedFats</th>\n",
       "    </tr>\n",
       "  </thead>\n",
       "  <tbody>\n",
       "    <tr>\n",
       "      <th>0</th>\n",
       "      <td>Cows' milk, whole</td>\n",
       "      <td>1 qt.</td>\n",
       "      <td>976.0</td>\n",
       "      <td>660.0</td>\n",
       "      <td>32.0</td>\n",
       "      <td>48</td>\n",
       "      <td>0.0</td>\n",
       "      <td>40</td>\n",
       "      <td>36</td>\n",
       "    </tr>\n",
       "    <tr>\n",
       "      <th>1</th>\n",
       "      <td>skim</td>\n",
       "      <td>1 qt.</td>\n",
       "      <td>984.0</td>\n",
       "      <td>360.0</td>\n",
       "      <td>36.0</td>\n",
       "      <td>52</td>\n",
       "      <td>0.0</td>\n",
       "      <td>t</td>\n",
       "      <td>t</td>\n",
       "    </tr>\n",
       "    <tr>\n",
       "      <th>2</th>\n",
       "      <td>Buttermilk, cultured</td>\n",
       "      <td>1 cup</td>\n",
       "      <td>246.0</td>\n",
       "      <td>127.0</td>\n",
       "      <td>9.0</td>\n",
       "      <td>13</td>\n",
       "      <td>0.0</td>\n",
       "      <td>5</td>\n",
       "      <td>4</td>\n",
       "    </tr>\n",
       "    <tr>\n",
       "      <th>3</th>\n",
       "      <td>Evaporated, undiluted</td>\n",
       "      <td>1 cup</td>\n",
       "      <td>252.0</td>\n",
       "      <td>345.0</td>\n",
       "      <td>16.0</td>\n",
       "      <td>24</td>\n",
       "      <td>0.0</td>\n",
       "      <td>20</td>\n",
       "      <td>18</td>\n",
       "    </tr>\n",
       "    <tr>\n",
       "      <th>4</th>\n",
       "      <td>Fortified milk</td>\n",
       "      <td>6 cups</td>\n",
       "      <td>1419.0</td>\n",
       "      <td>1373.0</td>\n",
       "      <td>89.0</td>\n",
       "      <td>119</td>\n",
       "      <td>1.4</td>\n",
       "      <td>42</td>\n",
       "      <td>23</td>\n",
       "    </tr>\n",
       "  </tbody>\n",
       "</table>\n",
       "</div>"
      ],
      "text/plain": [
       "                ItemName Quantity  InGrams  Calories  Protein Carbs  Fiber  \\\n",
       "0      Cows' milk, whole    1 qt.    976.0     660.0     32.0    48    0.0   \n",
       "1                   skim    1 qt.    984.0     360.0     36.0    52    0.0   \n",
       "2   Buttermilk, cultured    1 cup    246.0     127.0      9.0    13    0.0   \n",
       "3  Evaporated, undiluted    1 cup    252.0     345.0     16.0    24    0.0   \n",
       "4         Fortified milk   6 cups   1419.0    1373.0     89.0   119    1.4   \n",
       "\n",
       "  Fat SaturatedFats  \n",
       "0  40            36  \n",
       "1   t             t  \n",
       "2   5             4  \n",
       "3  20            18  \n",
       "4  42            23  "
      ]
     },
     "execution_count": 11,
     "metadata": {},
     "output_type": "execute_result"
    }
   ],
   "source": [
    "# Replace headers with new columns\n",
    "dairy.columns = new_cols\n",
    "dairy.head()"
   ]
  },
  {
   "cell_type": "code",
   "execution_count": 12,
   "id": "e19a0ecd",
   "metadata": {},
   "outputs": [
    {
     "name": "stdout",
     "output_type": "stream",
     "text": [
      "Table created successfully........\n"
     ]
    }
   ],
   "source": [
    "# Loading HTML data into sql table\n",
    "#Droping T_NUTRITION_HTML table if already exists.\n",
    "cursor.execute(\"DROP TABLE IF EXISTS T_NUTRITION_HTML\")\n",
    "\n",
    "#Creating table as per requirement\n",
    "sql ='''CREATE TABLE T_NUTRITION_HTML(\n",
    "   ItemName text,\n",
    "   Quantity text,\n",
    "   InGrams text,\n",
    "   Calories REAL, \n",
    "   Protein REAL,\n",
    "   Carbs REAL,\n",
    "   Fiber REAL,\n",
    "   Fat REAL,\n",
    "   SaturatedFats REAL\n",
    ")'''\n",
    "\n",
    "cursor.execute(sql)\n",
    "print(\"Table created successfully........\")"
   ]
  },
  {
   "cell_type": "code",
   "execution_count": 13,
   "id": "21d25956",
   "metadata": {},
   "outputs": [],
   "source": [
    "# Convert DataFrame to sql\n",
    "dairy.to_sql('T_NUTRITION_HTML', conn, if_exists='replace', index = False)"
   ]
  },
  {
   "cell_type": "code",
   "execution_count": 14,
   "id": "c96406cc",
   "metadata": {},
   "outputs": [
    {
     "data": {
      "text/html": [
       "<div>\n",
       "<style scoped>\n",
       "    .dataframe tbody tr th:only-of-type {\n",
       "        vertical-align: middle;\n",
       "    }\n",
       "\n",
       "    .dataframe tbody tr th {\n",
       "        vertical-align: top;\n",
       "    }\n",
       "\n",
       "    .dataframe thead th {\n",
       "        text-align: right;\n",
       "    }\n",
       "</style>\n",
       "<table border=\"1\" class=\"dataframe\">\n",
       "  <thead>\n",
       "    <tr style=\"text-align: right;\">\n",
       "      <th></th>\n",
       "      <th>number</th>\n",
       "      <th>name</th>\n",
       "      <th>amount</th>\n",
       "      <th>unitName</th>\n",
       "      <th>derivationCode</th>\n",
       "      <th>derivationDescription</th>\n",
       "      <th>foodCode</th>\n",
       "      <th>description</th>\n",
       "      <th>fdcId</th>\n",
       "    </tr>\n",
       "  </thead>\n",
       "  <tbody>\n",
       "    <tr>\n",
       "      <th>0</th>\n",
       "      <td>203</td>\n",
       "      <td>Protein</td>\n",
       "      <td>2.5</td>\n",
       "      <td>G</td>\n",
       "      <td>NaN</td>\n",
       "      <td>NaN</td>\n",
       "      <td>91715300</td>\n",
       "      <td>100 GRAND Bar</td>\n",
       "      <td>1104067</td>\n",
       "    </tr>\n",
       "    <tr>\n",
       "      <th>1</th>\n",
       "      <td>204</td>\n",
       "      <td>Total lipid (fat)</td>\n",
       "      <td>19.3</td>\n",
       "      <td>G</td>\n",
       "      <td>NaN</td>\n",
       "      <td>NaN</td>\n",
       "      <td>91715300</td>\n",
       "      <td>100 GRAND Bar</td>\n",
       "      <td>1104067</td>\n",
       "    </tr>\n",
       "    <tr>\n",
       "      <th>2</th>\n",
       "      <td>205</td>\n",
       "      <td>Carbohydrate, by difference</td>\n",
       "      <td>71.0</td>\n",
       "      <td>G</td>\n",
       "      <td>NaN</td>\n",
       "      <td>NaN</td>\n",
       "      <td>91715300</td>\n",
       "      <td>100 GRAND Bar</td>\n",
       "      <td>1104067</td>\n",
       "    </tr>\n",
       "    <tr>\n",
       "      <th>3</th>\n",
       "      <td>208</td>\n",
       "      <td>Energy</td>\n",
       "      <td>468.0</td>\n",
       "      <td>KCAL</td>\n",
       "      <td>NaN</td>\n",
       "      <td>NaN</td>\n",
       "      <td>91715300</td>\n",
       "      <td>100 GRAND Bar</td>\n",
       "      <td>1104067</td>\n",
       "    </tr>\n",
       "    <tr>\n",
       "      <th>4</th>\n",
       "      <td>221</td>\n",
       "      <td>Alcohol, ethyl</td>\n",
       "      <td>0.0</td>\n",
       "      <td>G</td>\n",
       "      <td>NaN</td>\n",
       "      <td>NaN</td>\n",
       "      <td>91715300</td>\n",
       "      <td>100 GRAND Bar</td>\n",
       "      <td>1104067</td>\n",
       "    </tr>\n",
       "  </tbody>\n",
       "</table>\n",
       "</div>"
      ],
      "text/plain": [
       "  number                         name  amount unitName derivationCode  \\\n",
       "0    203                      Protein     2.5        G            NaN   \n",
       "1    204            Total lipid (fat)    19.3        G            NaN   \n",
       "2    205  Carbohydrate, by difference    71.0        G            NaN   \n",
       "3    208                       Energy   468.0     KCAL            NaN   \n",
       "4    221               Alcohol, ethyl     0.0        G            NaN   \n",
       "\n",
       "  derivationDescription  foodCode    description    fdcId  \n",
       "0                   NaN  91715300  100 GRAND Bar  1104067  \n",
       "1                   NaN  91715300  100 GRAND Bar  1104067  \n",
       "2                   NaN  91715300  100 GRAND Bar  1104067  \n",
       "3                   NaN  91715300  100 GRAND Bar  1104067  \n",
       "4                   NaN  91715300  100 GRAND Bar  1104067  "
      ]
     },
     "execution_count": 14,
     "metadata": {},
     "output_type": "execute_result"
    }
   ],
   "source": [
    "# Load from API\n",
    "Key=\"WEZlzcMzFyEo7Z6GpQ2Lo8ITQjmWgEywhZbvBhCc\"\n",
    "# get the API data\n",
    "response = requests.get(\"https://api.nal.usda.gov/fdc/v1/foods/list?api_key=\"+Key)\n",
    "data=response.json()\n",
    "# Normalize a column that has json data (multi level json data)\n",
    "foodNutrients = json_normalize(data=data, record_path='foodNutrients',meta=['foodCode', 'description','fdcId'],errors='ignore')\n",
    "foodNutrients.head(5)"
   ]
  },
  {
   "cell_type": "code",
   "execution_count": 15,
   "id": "cfe0bf6f",
   "metadata": {},
   "outputs": [
    {
     "name": "stdout",
     "output_type": "stream",
     "text": [
      "Table created successfully........\n"
     ]
    }
   ],
   "source": [
    "# Loading API data into sql table\n",
    "#Droping T_NUTRITION_API table if already exists.\n",
    "cursor.execute(\"DROP TABLE IF EXISTS T_NUTRITION_API\")\n",
    "\n",
    "#Creating table as per requirement\n",
    "sql ='''CREATE TABLE T_NUTRITION_API(\n",
    "   number text,\n",
    "   name text,\n",
    "   amount real,\n",
    "   unitname REAL, \n",
    "   derivationcode REAL,\n",
    "   derivationdescription REAL,\n",
    "   foodcode text,\n",
    "   description text,\n",
    "   fdcid text\n",
    ")'''\n",
    "\n",
    "cursor.execute(sql)\n",
    "print(\"Table created successfully........\")"
   ]
  },
  {
   "cell_type": "code",
   "execution_count": 16,
   "id": "b0e5e99d",
   "metadata": {},
   "outputs": [],
   "source": [
    "# Convert DataFrame to sql\n",
    "foodNutrients.to_sql('T_NUTRITION_API', conn, if_exists='replace', index = False)"
   ]
  },
  {
   "cell_type": "code",
   "execution_count": 17,
   "id": "2b801a94",
   "metadata": {},
   "outputs": [
    {
     "data": {
      "text/html": [
       "<div>\n",
       "<style scoped>\n",
       "    .dataframe tbody tr th:only-of-type {\n",
       "        vertical-align: middle;\n",
       "    }\n",
       "\n",
       "    .dataframe tbody tr th {\n",
       "        vertical-align: top;\n",
       "    }\n",
       "\n",
       "    .dataframe thead th {\n",
       "        text-align: right;\n",
       "    }\n",
       "</style>\n",
       "<table border=\"1\" class=\"dataframe\">\n",
       "  <thead>\n",
       "    <tr style=\"text-align: right;\">\n",
       "      <th></th>\n",
       "      <th>ID</th>\n",
       "      <th>ItemName</th>\n",
       "      <th>FoodGroup</th>\n",
       "      <th>CaloriesPer100Gms</th>\n",
       "      <th>FatinGms</th>\n",
       "      <th>ProteininGms</th>\n",
       "      <th>CarbsinGms</th>\n",
       "      <th>SugarsinGms</th>\n",
       "      <th>FiberinGms</th>\n",
       "      <th>CholesterolinGms</th>\n",
       "      <th>...</th>\n",
       "      <th>SaturatedFats</th>\n",
       "      <th>number</th>\n",
       "      <th>name</th>\n",
       "      <th>amount</th>\n",
       "      <th>unitName</th>\n",
       "      <th>derivationCode</th>\n",
       "      <th>derivationDescription</th>\n",
       "      <th>foodCode</th>\n",
       "      <th>description</th>\n",
       "      <th>fdcId</th>\n",
       "    </tr>\n",
       "  </thead>\n",
       "  <tbody>\n",
       "    <tr>\n",
       "      <th>0</th>\n",
       "      <td>167513</td>\n",
       "      <td>Pillsbury Cinnamon Rolls With Icing Refrigerat...</td>\n",
       "      <td>Baked Foods</td>\n",
       "      <td>330.0</td>\n",
       "      <td>11.27</td>\n",
       "      <td>4.34</td>\n",
       "      <td>53.42</td>\n",
       "      <td>21.34</td>\n",
       "      <td>1.4</td>\n",
       "      <td>0.0</td>\n",
       "      <td>...</td>\n",
       "      <td>None</td>\n",
       "      <td>None</td>\n",
       "      <td>None</td>\n",
       "      <td>None</td>\n",
       "      <td>None</td>\n",
       "      <td>None</td>\n",
       "      <td>None</td>\n",
       "      <td>None</td>\n",
       "      <td>None</td>\n",
       "      <td>None</td>\n",
       "    </tr>\n",
       "    <tr>\n",
       "      <th>1</th>\n",
       "      <td>167514</td>\n",
       "      <td>Kraft Foods Shake N Bake Original Recipe Coati...</td>\n",
       "      <td>Baked Foods</td>\n",
       "      <td>377.0</td>\n",
       "      <td>3.70</td>\n",
       "      <td>6.10</td>\n",
       "      <td>79.80</td>\n",
       "      <td></td>\n",
       "      <td></td>\n",
       "      <td></td>\n",
       "      <td>...</td>\n",
       "      <td>None</td>\n",
       "      <td>None</td>\n",
       "      <td>None</td>\n",
       "      <td>None</td>\n",
       "      <td>None</td>\n",
       "      <td>None</td>\n",
       "      <td>None</td>\n",
       "      <td>None</td>\n",
       "      <td>None</td>\n",
       "      <td>None</td>\n",
       "    </tr>\n",
       "    <tr>\n",
       "      <th>2</th>\n",
       "      <td>167515</td>\n",
       "      <td>George Weston Bakeries Thomas English Muffins</td>\n",
       "      <td>Baked Foods</td>\n",
       "      <td>232.0</td>\n",
       "      <td>1.80</td>\n",
       "      <td>8.00</td>\n",
       "      <td>46.00</td>\n",
       "      <td></td>\n",
       "      <td></td>\n",
       "      <td></td>\n",
       "      <td>...</td>\n",
       "      <td>None</td>\n",
       "      <td>None</td>\n",
       "      <td>None</td>\n",
       "      <td>None</td>\n",
       "      <td>None</td>\n",
       "      <td>None</td>\n",
       "      <td>None</td>\n",
       "      <td>None</td>\n",
       "      <td>None</td>\n",
       "      <td>None</td>\n",
       "    </tr>\n",
       "    <tr>\n",
       "      <th>3</th>\n",
       "      <td>167516</td>\n",
       "      <td>Waffles Buttermilk Frozen Ready-To-Heat</td>\n",
       "      <td>Baked Foods</td>\n",
       "      <td>273.0</td>\n",
       "      <td>9.22</td>\n",
       "      <td>6.58</td>\n",
       "      <td>41.05</td>\n",
       "      <td>4.3</td>\n",
       "      <td>2.2</td>\n",
       "      <td>15.0</td>\n",
       "      <td>...</td>\n",
       "      <td>None</td>\n",
       "      <td>None</td>\n",
       "      <td>None</td>\n",
       "      <td>None</td>\n",
       "      <td>None</td>\n",
       "      <td>None</td>\n",
       "      <td>None</td>\n",
       "      <td>None</td>\n",
       "      <td>None</td>\n",
       "      <td>None</td>\n",
       "    </tr>\n",
       "    <tr>\n",
       "      <th>4</th>\n",
       "      <td>167517</td>\n",
       "      <td>Waffle Buttermilk Frozen Ready-To-Heat Toasted</td>\n",
       "      <td>Baked Foods</td>\n",
       "      <td>309.0</td>\n",
       "      <td>9.49</td>\n",
       "      <td>7.42</td>\n",
       "      <td>48.39</td>\n",
       "      <td>4.41</td>\n",
       "      <td>2.6</td>\n",
       "      <td>13.0</td>\n",
       "      <td>...</td>\n",
       "      <td>None</td>\n",
       "      <td>None</td>\n",
       "      <td>None</td>\n",
       "      <td>None</td>\n",
       "      <td>None</td>\n",
       "      <td>None</td>\n",
       "      <td>None</td>\n",
       "      <td>None</td>\n",
       "      <td>None</td>\n",
       "      <td>None</td>\n",
       "    </tr>\n",
       "  </tbody>\n",
       "</table>\n",
       "<p>5 rows × 30 columns</p>\n",
       "</div>"
      ],
      "text/plain": [
       "       ID                                           ItemName    FoodGroup  \\\n",
       "0  167513  Pillsbury Cinnamon Rolls With Icing Refrigerat...  Baked Foods   \n",
       "1  167514  Kraft Foods Shake N Bake Original Recipe Coati...  Baked Foods   \n",
       "2  167515      George Weston Bakeries Thomas English Muffins  Baked Foods   \n",
       "3  167516            Waffles Buttermilk Frozen Ready-To-Heat  Baked Foods   \n",
       "4  167517     Waffle Buttermilk Frozen Ready-To-Heat Toasted  Baked Foods   \n",
       "\n",
       "   CaloriesPer100Gms  FatinGms  ProteininGms  CarbsinGms SugarsinGms  \\\n",
       "0              330.0     11.27          4.34       53.42       21.34   \n",
       "1              377.0      3.70          6.10       79.80               \n",
       "2              232.0      1.80          8.00       46.00               \n",
       "3              273.0      9.22          6.58       41.05         4.3   \n",
       "4              309.0      9.49          7.42       48.39        4.41   \n",
       "\n",
       "  FiberinGms CholesterolinGms  ... SaturatedFats  number  name amount  \\\n",
       "0        1.4              0.0  ...          None    None  None   None   \n",
       "1                              ...          None    None  None   None   \n",
       "2                              ...          None    None  None   None   \n",
       "3        2.2             15.0  ...          None    None  None   None   \n",
       "4        2.6             13.0  ...          None    None  None   None   \n",
       "\n",
       "  unitName derivationCode derivationDescription foodCode description fdcId  \n",
       "0     None           None                  None     None        None  None  \n",
       "1     None           None                  None     None        None  None  \n",
       "2     None           None                  None     None        None  None  \n",
       "3     None           None                  None     None        None  None  \n",
       "4     None           None                  None     None        None  None  \n",
       "\n",
       "[5 rows x 30 columns]"
      ]
     },
     "execution_count": 17,
     "metadata": {},
     "output_type": "execute_result"
    }
   ],
   "source": [
    "# Join all the three tables and read data into a dataframe\n",
    "sql='''select * from T_NUTRITION_EXCEL e left join T_NUTRITION_HTML h\n",
    "                                    on e.itemname=h.itemname\n",
    "                                         left join T_NUTRITION_API a\n",
    "                                    on h.itemname=a.name'''\n",
    "df = pd.read_sql_query(sql, conn)\n",
    "df.head()"
   ]
  },
  {
   "cell_type": "code",
   "execution_count": 23,
   "id": "3fe1322f",
   "metadata": {},
   "outputs": [
    {
     "data": {
      "image/png": "[encoded data removed]",
      "text/plain": [
       "<Figure size 432x288 with 1 Axes>"
      ]
     },
     "metadata": {
      "needs_background": "light"
     },
     "output_type": "display_data"
    }
   ],
   "source": [
    "# Bar Chart\n",
    "ND2=ND.head(25)\n",
    "fig = plt.figure()\n",
    "ax = fig.add_axes([0,0,1,1])\n",
    "ax.bar(ND2['ItemName'],ND2['CaloriesPer100Gms'])\n",
    "plt.xticks(rotation=90)\n",
    "plt.show()"
   ]
  },
  {
   "cell_type": "code",
   "execution_count": 25,
   "id": "5b0f35ea",
   "metadata": {},
   "outputs": [
    {
     "data": {
      "image/png": "[encoded data removed]",
      "text/plain": [
       "<Figure size 432x288 with 1 Axes>"
      ]
     },
     "metadata": {
      "needs_background": "light"
     },
     "output_type": "display_data"
    }
   ],
   "source": [
    "# Histogram to show carbs in grams distribution\n",
    "plt.hist(ND1['CarbsinGms'],bins=20)\n",
    "plt.show()"
   ]
  },
  {
   "cell_type": "code",
   "execution_count": 26,
   "id": "91077a7d",
   "metadata": {
    "scrolled": true
   },
   "outputs": [
    {
     "data": {
      "image/png": "[encoded data removed]",
      "text/plain": [
       "<Figure size 432x288 with 1 Axes>"
      ]
     },
     "metadata": {
      "needs_background": "light"
     },
     "output_type": "display_data"
    }
   ],
   "source": [
    "# Histogram to show fat in grams distribution\n",
    "plt.hist(ND1['FatinGms'],bins=20)\n",
    "plt.show()"
   ]
  },
  {
   "cell_type": "code",
   "execution_count": 27,
   "id": "f3b88dcf",
   "metadata": {},
   "outputs": [
    {
     "data": {
      "image/png": "[encoded data removed]",
      "text/plain": [
       "<Figure size 432x288 with 1 Axes>"
      ]
     },
     "metadata": {
      "needs_background": "light"
     },
     "output_type": "display_data"
    }
   ],
   "source": [
    "# Scatter plot to demonstrate Calories Vs Proteins\n",
    "plt.scatter(ND1['CaloriesPer100Gms'],ND1['ProteininGms'])\n",
    "plt.title('Calories Vs Proteins')\n",
    "plt.xlabel('Calories')\n",
    "plt.ylabel('Proteins')\n",
    "plt.show()"
   ]
  },
  {
   "cell_type": "code",
   "execution_count": 28,
   "id": "49b37bd4",
   "metadata": {},
   "outputs": [
    {
     "data": {
      "image/png": "[encoded data removed]",
      "text/plain": [
       "<Figure size 432x288 with 1 Axes>"
      ]
     },
     "metadata": {
      "needs_background": "light"
     },
     "output_type": "display_data"
    }
   ],
   "source": [
    "# Scatter plot to demonstrate Calories Vs Calorie Weight\n",
    "plt.scatter(ND1['CaloriesPer100Gms'],ND1['CalorieWeight_200'])\n",
    "plt.title('Calories Vs CaloriesWeight')\n",
    "plt.xlabel('Calories')\n",
    "plt.ylabel('CaloriesWeight')\n",
    "plt.show()"
   ]
  }
 ],
 "metadata": {
  "kernelspec": {
   "display_name": "Python 3",
   "language": "python",
   "name": "python3"
  },
  "language_info": {
   "codemirror_mode": {
    "name": "ipython",
    "version": 3
   },
   "file_extension": ".py",
   "mimetype": "text/x-python",
   "name": "python",
   "nbconvert_exporter": "python",
   "pygments_lexer": "ipython3",
   "version": "3.8.8"
  }
 },
 "nbformat": 4,
 "nbformat_minor": 5
}
